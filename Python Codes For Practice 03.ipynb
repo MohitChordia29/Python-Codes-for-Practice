{
 "cells": [
  {
   "cell_type": "markdown",
   "metadata": {},
   "source": [
    "### Python Programming Examples on Lists"
   ]
  },
  {
   "cell_type": "markdown",
   "metadata": {},
   "source": [
    "**Q1. Python Program to Find the Largest Number in a List**"
   ]
  },
  {
   "cell_type": "code",
   "execution_count": 2,
   "metadata": {},
   "outputs": [
    {
     "name": "stdout",
     "output_type": "stream",
     "text": [
      "Enter number of Elements: 5\n",
      "Enter Element: 28\n",
      "Enter Element: 69\n",
      "Enter Element: 86\n",
      "Enter Element: 43\n",
      "Enter Element: 13\n",
      "Largest Element is:  86\n"
     ]
    }
   ],
   "source": [
    "#Python Code:\n",
    "a=[]\n",
    "n=int(input(\"Enter number of Elements: \"))\n",
    "for i in range(1,n+1):\n",
    "    b=int(input(\"Enter Element: \"))\n",
    "    a.append(b)\n",
    "a.sort()\n",
    "print(\"Largest Element is: \",a[n-1])"
   ]
  },
  {
   "cell_type": "markdown",
   "metadata": {},
   "source": [
    "**Q2. Python Program to Find the Second Largest Number in a List**"
   ]
  },
  {
   "cell_type": "code",
   "execution_count": 5,
   "metadata": {},
   "outputs": [
    {
     "name": "stdout",
     "output_type": "stream",
     "text": [
      "Enter number of Elements: 4\n",
      "Enter Element: 59\n",
      "Enter Element: 69\n",
      "Enter Element: 86\n",
      "Enter Element: 98\n",
      "Second Largest Element is:  86\n"
     ]
    }
   ],
   "source": [
    "#Python Code:\n",
    "a=[]\n",
    "n=int(input(\"Enter number of Elements: \"))\n",
    "for i in range(1,n+1):\n",
    "    b=int(input(\"Enter Element: \"))\n",
    "    a.append(b)\n",
    "a.sort()\n",
    "print(\"Second Largest Element is: \",a[n-2])"
   ]
  },
  {
   "cell_type": "markdown",
   "metadata": {},
   "source": [
    "**Q3. Python Program to Put Even and Odd elements in a List into Two Different Lists**"
   ]
  },
  {
   "cell_type": "code",
   "execution_count": 2,
   "metadata": {},
   "outputs": [
    {
     "name": "stdout",
     "output_type": "stream",
     "text": [
      "Enter the number of Elements: 5\n",
      "Enter Element: 56\n",
      "Enter Element: 95\n",
      "Enter Element: 24\n",
      "Enter Element: 28\n",
      "Enter Element: 37\n",
      "The Even list:  [56, 24, 28]\n",
      "The Odd list:  [95, 37]\n"
     ]
    }
   ],
   "source": [
    "#Python Code:\n",
    "a=[]\n",
    "n=int(input(\"Enter the number of Elements: \"))\n",
    "for i in range(1,n+1):\n",
    "    b=int(input(\"Enter Element: \"))\n",
    "    a.append(b)\n",
    "even=[]\n",
    "odd=[]\n",
    "for j in a:\n",
    "    if(j%2==0):\n",
    "        even.append(j)\n",
    "    else:\n",
    "        odd.append(j)\n",
    "print(\"The Even list: \",even)\n",
    "print(\"The Odd list: \",odd)"
   ]
  },
  {
   "cell_type": "markdown",
   "metadata": {},
   "source": [
    "**Q4. Python Program to Merge Two Lists and Sort it**"
   ]
  },
  {
   "cell_type": "code",
   "execution_count": 3,
   "metadata": {},
   "outputs": [
    {
     "name": "stdout",
     "output_type": "stream",
     "text": [
      "Enter number of Elements: 4\n",
      "Enter element:24\n",
      "Enter element:56\n",
      "Enter element:96\n",
      "Enter element:85\n",
      "Enter number of Elements: 5\n",
      "Enter Element: 56\n",
      "Enter Element: 75\n",
      "Enter Element: 94\n",
      "Enter Element: 26\n",
      "Enter Element: 38\n",
      "Sorted list is:  [24, 26, 38, 56, 56, 75, 85, 94, 96]\n"
     ]
    }
   ],
   "source": [
    "#Python Code:\n",
    "a=[]\n",
    "c=[]\n",
    "n1=int(input(\"Enter number of Elements: \"))\n",
    "for i in range(1,n1+1):\n",
    "    b=int(input(\"Enter element:\"))\n",
    "    a.append(b)\n",
    "n2=int(input(\"Enter number of Elements: \"))\n",
    "for i in range(1,n2+1):\n",
    "    d=int(input(\"Enter Element: \"))\n",
    "    c.append(d)\n",
    "new=a+c\n",
    "new.sort()\n",
    "print(\"Sorted list is: \",new)"
   ]
  },
  {
   "cell_type": "markdown",
   "metadata": {},
   "source": [
    "**Q5. Python Program to Sort the List According to the Second Element in Sublist**"
   ]
  },
  {
   "cell_type": "code",
   "execution_count": 4,
   "metadata": {},
   "outputs": [
    {
     "name": "stdout",
     "output_type": "stream",
     "text": [
      "[['B', 21], ['C', 26], ['A', 34]]\n"
     ]
    }
   ],
   "source": [
    "#Python Code:\n",
    "a=[['A',34],['B',21],['C',26]]\n",
    "for i in range(0,len(a)):\n",
    "    for j in range(0,len(a)-i-1):\n",
    "        if(a[j][1]>a[j+1][1]):\n",
    "            temp=a[j]\n",
    "            a[j]=a[j+1]\n",
    "            a[j+1]=temp\n",
    "print(a)"
   ]
  },
  {
   "cell_type": "markdown",
   "metadata": {},
   "source": [
    "**Q6. Python Program to Find the Second Largest Number in a List Using Bubble Sort**"
   ]
  },
  {
   "cell_type": "code",
   "execution_count": 5,
   "metadata": {},
   "outputs": [
    {
     "name": "stdout",
     "output_type": "stream",
     "text": [
      "Enter number of Elements: 5\n",
      "Enter Element: 25\n",
      "Enter Element: 96\n",
      "Enter Element: 56\n",
      "Enter Element: 38\n",
      "Enter Element: 76\n",
      "Second largest Number is:  76\n"
     ]
    }
   ],
   "source": [
    "#Python Code:\n",
    "a=[]\n",
    "n=int(input(\"Enter number of Elements: \"))\n",
    "for i in range(1,n+1): \n",
    "    b=int(input(\"Enter Element: \"))\n",
    "    a.append(b)\n",
    "for i in range(0,len(a)):\n",
    "    for j in range(0,len(a)-i-1):\n",
    "        if(a[j]>a[j+1]):\n",
    "            temp=a[j]\n",
    "            a[j]=a[j+1]\n",
    "            a[j+1]=temp \n",
    "print('Second largest Number is: ',a[n-2])"
   ]
  },
  {
   "cell_type": "markdown",
   "metadata": {},
   "source": [
    "**Q7. Python Program to Sort a List According to the Length of the Elements**"
   ]
  },
  {
   "cell_type": "code",
   "execution_count": 6,
   "metadata": {},
   "outputs": [
    {
     "name": "stdout",
     "output_type": "stream",
     "text": [
      "Enter number of Elements :4\n",
      "Enter Element: 253\n",
      "Enter Element: 56\n",
      "Enter Element: 96\n",
      "Enter Element: 25\n",
      "['56', '96', '25', '253']\n"
     ]
    }
   ],
   "source": [
    "#Python Code:\n",
    "a=[]\n",
    "n=int(input(\"Enter number of Elements :\"))\n",
    "for i in range(1,n+1):\n",
    "    b=input(\"Enter Element: \")\n",
    "    a.append(b)\n",
    "a.sort(key=len)\n",
    "print(a)"
   ]
  },
  {
   "cell_type": "markdown",
   "metadata": {},
   "source": [
    "**Q8. Python Program to Find the Union of two Lists**"
   ]
  },
  {
   "cell_type": "code",
   "execution_count": 1,
   "metadata": {},
   "outputs": [
    {
     "name": "stdout",
     "output_type": "stream",
     "text": [
      "Enter size of List 1: 4\n",
      "Enter any Number: 24\n",
      "Enter any Number: 56\n",
      "Enter any Number: 86\n",
      "Enter any Number: 98\n",
      "Enter size of List 2: 5\n",
      "Enter any Number: 45\n",
      "Enter any Number: 76\n",
      "Enter any Number: 35\n",
      "Enter any Number: 46\n",
      "Enter any Number: 29\n",
      "The Union of two lists is:  [98, 35, 76, 45, 46, 86, 24, 56, 29]\n"
     ]
    }
   ],
   "source": [
    "#Python Code:\n",
    "list_1 = []\n",
    "num1 = int(input('Enter size of List 1: '))\n",
    "for n in range(num1):\n",
    "    numbers1 = int(input('Enter any Number: '))\n",
    "    list_1.append(numbers1) \n",
    "list_2 = []\n",
    "num2 = int(input('Enter size of List 2: '))\n",
    "for n in range(num2):\n",
    "    numbers2 = int(input('Enter any Number: '))\n",
    "    list_2.append(numbers2)\n",
    "union = list(set().union(list_1,list_2)) \n",
    "print('The Union of two lists is: ',union)"
   ]
  },
  {
   "cell_type": "markdown",
   "metadata": {},
   "source": [
    "**Q9. Python Program to Find the Intersection of Two Lists**"
   ]
  },
  {
   "cell_type": "code",
   "execution_count": 2,
   "metadata": {},
   "outputs": [
    {
     "name": "stdout",
     "output_type": "stream",
     "text": [
      "Enter number of elements for List1: 4\n",
      "Enter number of elements for List2: 2\n",
      "For List1:\n",
      "Enter element1:42\n",
      "Enter element2:59\n",
      "Enter element3:24\n",
      "Enter element4:26\n",
      "For List2: \n",
      "Enter element1:24\n",
      "Enter element2:86\n",
      "The Intersection is : \n",
      "[24]\n"
     ]
    }
   ],
   "source": [
    "#Python Code:\n",
    "def intersection(a, b):\n",
    "    return list(set(a) & set(b))\n",
    " \n",
    "def main():\n",
    "    alist=[]\n",
    "    blist=[]\n",
    "    n1=int(input(\"Enter number of elements for List1: \"))\n",
    "    n2=int(input(\"Enter number of elements for List2: \"))\n",
    "    print(\"For List1:\")\n",
    "    for x in range(0,n1):\n",
    "        element=int(input(\"Enter element\" + str(x+1) + \":\"))\n",
    "        alist.append(element)\n",
    "    print(\"For List2: \")\n",
    "    for x in range(0,n2):\n",
    "        element=int(input(\"Enter element\" + str(x+1) + \":\"))\n",
    "        blist.append(element)\n",
    "    print(\"The Intersection is : \")\n",
    "    print(intersection(alist, blist))\n",
    "main()"
   ]
  },
  {
   "cell_type": "markdown",
   "metadata": {},
   "source": [
    "**Q10. Python Program to Create a List of Tuples with the First Element as the Number and Second Element as the Square of the Number**"
   ]
  },
  {
   "cell_type": "code",
   "execution_count": 3,
   "metadata": {},
   "outputs": [
    {
     "name": "stdout",
     "output_type": "stream",
     "text": [
      "Enter the Lower range: 20\n",
      "Enter the Upper range: 40\n",
      "[(20, 400), (21, 441), (22, 484), (23, 529), (24, 576), (25, 625), (26, 676), (27, 729), (28, 784), (29, 841), (30, 900), (31, 961), (32, 1024), (33, 1089), (34, 1156), (35, 1225), (36, 1296), (37, 1369), (38, 1444), (39, 1521), (40, 1600)]\n"
     ]
    }
   ],
   "source": [
    "#Python Code:\n",
    "l_range=int(input(\"Enter the Lower range: \"))\n",
    "u_range=int(input(\"Enter the Upper range: \"))\n",
    "a=[(x,x**2) for x in range(l_range,u_range+1)]\n",
    "print(a)"
   ]
  },
  {
   "cell_type": "markdown",
   "metadata": {},
   "source": [
    "**Q11. Python Program to Find all Numbers in a Range which are Perfect Squares and Sum of all Digits in the Number is Less than 10**"
   ]
  },
  {
   "cell_type": "code",
   "execution_count": 4,
   "metadata": {},
   "outputs": [
    {
     "name": "stdout",
     "output_type": "stream",
     "text": [
      "Enter Lower range: 20\n",
      "Enter Upper range: 40\n",
      "[25, 36]\n"
     ]
    }
   ],
   "source": [
    "#Python Code:\n",
    "l=int(input(\"Enter Lower range: \"))\n",
    "u=int(input(\"Enter Upper range: \"))\n",
    "a=[]\n",
    "a=[x for x in range(l,u+1) if (int(x**0.5))**2==x and sum(list(map(int,str(x))))<10]\n",
    "print(a)"
   ]
  },
  {
   "cell_type": "markdown",
   "metadata": {},
   "source": [
    "**Q12. Python Program to Find the Cumulative Sum of a List where the ith Element is the Sum of the First i+1 Elements From The Original List**"
   ]
  },
  {
   "cell_type": "code",
   "execution_count": 5,
   "metadata": {},
   "outputs": [
    {
     "name": "stdout",
     "output_type": "stream",
     "text": [
      "Enter the number of elements in list: 5\n",
      "Enter Element1:23\n",
      "Enter Element2:25\n",
      "Enter Element3:86\n",
      "Enter Element4:73\n",
      "Enter Element5:49\n",
      "The Original list is:  [23, 25, 86, 73, 49]\n",
      "The New list is:  [23, 48, 134, 207, 256]\n"
     ]
    }
   ],
   "source": [
    "#Python Code:\n",
    "a=[]\n",
    "n= int(input(\"Enter the number of elements in list: \"))\n",
    "for x in range(0,n):\n",
    "    element=int(input(\"Enter Element\" + str(x+1) + \":\"))\n",
    "    a.append(element)\n",
    "b=[sum(a[0:x+1]) for x in range(0,len(a))]\n",
    "print(\"The Original list is: \",a)\n",
    "print(\"The New list is: \",b)"
   ]
  },
  {
   "cell_type": "markdown",
   "metadata": {},
   "source": [
    "**Q13. Python Program to Generate Random Numbers from 1 to 20 and Append Them to the List**"
   ]
  },
  {
   "cell_type": "code",
   "execution_count": 1,
   "metadata": {},
   "outputs": [
    {
     "name": "stdout",
     "output_type": "stream",
     "text": [
      "Enter number of Elements:4\n",
      "Randomised list is:  [3, 14, 16, 8]\n"
     ]
    }
   ],
   "source": [
    "#Python Code:\n",
    "import random\n",
    "a=[]\n",
    "n=int(input(\"Enter number of Elements:\"))\n",
    "for j in range(n):\n",
    "    a.append(random.randint(1,20))\n",
    "print('Randomised list is: ',a)"
   ]
  },
  {
   "cell_type": "markdown",
   "metadata": {},
   "source": [
    "**Q14. Python program to Sort a List of Tuples in Increasing Order by the Last Element in Each Tuple**"
   ]
  },
  {
   "cell_type": "code",
   "execution_count": 2,
   "metadata": {},
   "outputs": [
    {
     "name": "stdout",
     "output_type": "stream",
     "text": [
      "Enter a list of Tuples: 5632248\n",
      "Sorted: \n",
      "['2', '2', '3', '4', '5', '6', '8']\n"
     ]
    }
   ],
   "source": [
    "#Python Code:\n",
    "def last(n):\n",
    "    return n[-1]  \n",
    " \n",
    "def sort(tuples):\n",
    "    return sorted(tuples, key=last)\n",
    " \n",
    "a=input(\"Enter a list of Tuples: \")\n",
    "print(\"Sorted: \")\n",
    "print(sort(a))"
   ]
  },
  {
   "cell_type": "markdown",
   "metadata": {},
   "source": [
    "**Q15. Python Program to Swap the First and Last Value of a List**"
   ]
  },
  {
   "cell_type": "code",
   "execution_count": 3,
   "metadata": {},
   "outputs": [
    {
     "name": "stdout",
     "output_type": "stream",
     "text": [
      "Enter the number of elements in list: 5\n",
      "Enter Element1:42\n",
      "Enter Element2:36\n",
      "Enter Element3:86\n",
      "Enter Element4:76\n",
      "Enter Element5:38\n",
      "New list is: \n",
      "[38, 36, 86, 76, 42]\n"
     ]
    }
   ],
   "source": [
    "#Python Code:\n",
    "a=[]\n",
    "n= int(input(\"Enter the number of elements in list: \"))\n",
    "for x in range(0,n):\n",
    "    element=int(input(\"Enter Element\" + str(x+1) + \":\"))\n",
    "    a.append(element)\n",
    "temp=a[0]\n",
    "a[0]=a[n-1]\n",
    "a[n-1]=temp\n",
    "print(\"New list is: \")\n",
    "print(a)"
   ]
  },
  {
   "cell_type": "markdown",
   "metadata": {},
   "source": [
    "**Q16. Python Program to Remove the Duplicate Items from a List**"
   ]
  },
  {
   "cell_type": "code",
   "execution_count": 4,
   "metadata": {},
   "outputs": [
    {
     "name": "stdout",
     "output_type": "stream",
     "text": [
      "Enter the number of elements in list: 5\n",
      "Enter element1:24\n",
      "Enter element2:69\n",
      "Enter element3:35\n",
      "Enter element4:24\n",
      "Enter element5:29\n",
      "Non-duplicate items: \n",
      "[24, 69, 35, 29]\n"
     ]
    }
   ],
   "source": [
    "#Python Code:\n",
    "a=[]\n",
    "n= int(input(\"Enter the number of elements in list: \"))\n",
    "for x in range(0,n):\n",
    "    element=int(input(\"Enter element\" + str(x+1) + \":\"))\n",
    "    a.append(element)\n",
    "b = set()\n",
    "unique = []\n",
    "for x in a:\n",
    "    if x not in b:\n",
    "        unique.append(x)\n",
    "        b.add(x)\n",
    "print(\"Non-duplicate items: \")\n",
    "print(unique)"
   ]
  },
  {
   "cell_type": "markdown",
   "metadata": {},
   "source": [
    "**Q17. Python Program to Read a List of Words and Return the Length of the Longest One**"
   ]
  },
  {
   "cell_type": "code",
   "execution_count": 5,
   "metadata": {},
   "outputs": [
    {
     "name": "stdout",
     "output_type": "stream",
     "text": [
      "Enter the number of elements in list: 4\n",
      "Enter element1:happy\n",
      "Enter element2:learning\n",
      "Enter element3:python\n",
      "Enter element4:programming\n",
      "The word with the longest length is: \n",
      "programming\n"
     ]
    }
   ],
   "source": [
    "#Python code:\n",
    "a=[]\n",
    "n= int(input(\"Enter the number of elements in list: \"))\n",
    "for x in range(0,n):\n",
    "    element=input(\"Enter element\" + str(x+1) + \":\")\n",
    "    a.append(element)\n",
    "max1=len(a[0])\n",
    "temp=a[0]\n",
    "for i in a:\n",
    "    if(len(i)>max1):\n",
    "       max1=len(i)\n",
    "       temp=i\n",
    "print(\"The word with the longest length is: \")\n",
    "print(temp)"
   ]
  },
  {
   "cell_type": "markdown",
   "metadata": {},
   "source": [
    "**Q18. Python Program to Remove the ith Occurrence of the Given Word in a List where Words can Repeat**"
   ]
  },
  {
   "cell_type": "code",
   "execution_count": 8,
   "metadata": {},
   "outputs": [
    {
     "name": "stdout",
     "output_type": "stream",
     "text": [
      "Enter the number of elements in list: 4\n",
      "Enter element1:wishing\n",
      "Enter element2:you\n",
      "Enter element3:all\n",
      "Enter element4:happy\n",
      "['wishing', 'you', 'all', 'happy']\n",
      "Enter word to remove: you\n",
      "Enter the occurrence to remove: 2\n",
      "The number of repetitions is:  1\n",
      "Updated list is:  ['wishing', 'you', 'all', 'happy']\n",
      "The distinct elements are:  {'all', 'you', 'wishing', 'happy'}\n"
     ]
    }
   ],
   "source": [
    "#Python Code:\n",
    "a=[]\n",
    "n= int(input(\"Enter the number of elements in list: \"))\n",
    "for x in range(0,n):\n",
    "    element=input(\"Enter element\" + str(x+1) + \":\")\n",
    "    a.append(element)\n",
    "print(a)\n",
    "c=[]\n",
    "count=0\n",
    "b=input(\"Enter word to remove: \")\n",
    "n=int(input(\"Enter the occurrence to remove: \"))\n",
    "for i in a:\n",
    "    if(i==b):\n",
    "        count=count+1\n",
    "        if(count!=n):\n",
    "            c.append(i)\n",
    "    else:\n",
    "        c.append(i)\n",
    "if(count==0):\n",
    "    print(\"Item not found \")\n",
    "else: \n",
    "    print(\"The number of repetitions is: \",count)\n",
    "    print(\"Updated list is: \",c)\n",
    "    print(\"The distinct elements are: \",set(a))"
   ]
  },
  {
   "cell_type": "markdown",
   "metadata": {},
   "source": [
    "**Q19. Python Program to Remove All Tuples in a List of Tuples with the USN Outside the Given Range**"
   ]
  },
  {
   "cell_type": "code",
   "execution_count": 9,
   "metadata": {},
   "outputs": [
    {
     "name": "stdout",
     "output_type": "stream",
     "text": [
      "Enter Lower roll number (starting with 12CS): 20\n",
      "Enter Upper roll number (starting with 12CS): 30\n",
      "[('a', '12CS039'), ('c', '12CS055'), ('d', '12CS100')]\n"
     ]
    }
   ],
   "source": [
    "#Python Code:\n",
    "y=[('a','12CS039'),('b','12CS320'),('c','12CS055'),('d','12CS100')]\n",
    "low=int(input(\"Enter Lower roll number (starting with 12CS): \"))\n",
    "up=int(input(\"Enter Upper roll number (starting with 12CS): \"))\n",
    "l='12CS0'+str(low)\n",
    "u='12CS'+str(up)\n",
    "p=[x for x in y if x[1]>l and x[1]<u]\n",
    "print(p)"
   ]
  },
  {
   "cell_type": "markdown",
   "metadata": {},
   "source": [
    "**Q20. Python Program to Find Element Occurring Odd Number of Times in a List**"
   ]
  },
  {
   "cell_type": "code",
   "execution_count": 18,
   "metadata": {},
   "outputs": [
    {
     "name": "stdout",
     "output_type": "stream",
     "text": [
      "Enter the list: 21 32 1 52 4 5 85 2 \n",
      "The element that occurs odd number of times:  86\n"
     ]
    }
   ],
   "source": [
    "#Python Code:\n",
    "def find_odd_occurring(alist):\n",
    "    \"\"\"Return the element that occurs odd number of times in alist.\n",
    " \n",
    "    alist is a list in which all elements except one element occurs an even\n",
    "    number of times.\n",
    "    \"\"\"\n",
    "    ans = 0\n",
    "    for element in alist:\n",
    "        ans ^= element\n",
    "    return ans\n",
    "alist = input('Enter the list: ').split()\n",
    "alist = [int(i) for i in alist]\n",
    "ans = find_odd_occurring(alist)\n",
    "print('The element that occurs odd number of times: ', ans)"
   ]
  },
  {
   "cell_type": "markdown",
   "metadata": {},
   "source": [
    "**Q21. Python Program to solve Maximum Subarray Problem using Divide and Conquer**"
   ]
  },
  {
   "cell_type": "code",
   "execution_count": 4,
   "metadata": {},
   "outputs": [
    {
     "name": "stdout",
     "output_type": "stream",
     "text": [
      "Enter the list of numbers: 2 5 \n",
      "The maximum subarray starts at index 0, ends at index 1 and has sum 7.\n"
     ]
    }
   ],
   "source": [
    "#Python Code:\n",
    "def find_max_subarray(alist, start, end):\n",
    "    \"\"\"Returns (l, r, m) such that alist[l:r] is the maximum subarray in\n",
    "    A[start:end] with sum m. Here A[start:end] means all A[x] for start <= x <\n",
    "    end.\"\"\"\n",
    "    # base case\n",
    "    if start == end - 1:\n",
    "        return start, end, alist[start]\n",
    "    else:\n",
    "        mid = (start + end)//2\n",
    "        left_start, left_end, left_max = find_max_subarray(alist, start, mid)\n",
    "        right_start, right_end, right_max = find_max_subarray(alist, mid, end)\n",
    "        cross_start, cross_end, cross_max = find_max_crossing_subarray(alist, start, mid, end)\n",
    "        if (left_max > right_max and left_max > cross_max):\n",
    "            return left_start, left_end, left_max\n",
    "        elif (right_max > left_max and right_max > cross_max):\n",
    "            return right_start, right_end, right_max\n",
    "        else:\n",
    "            return cross_start, cross_end, cross_max \n",
    "def find_max_crossing_subarray(alist, start, mid, end):\n",
    "    \"\"\"Returns (l, r, m) such that alist[l:r] is the maximum subarray within\n",
    "    alist with start <= l < mid <= r < end with sum m. The arguments start, mid,\n",
    "    end must satisfy start <= mid <= end.\"\"\"\n",
    "    sum_left = float('-inf')\n",
    "    sum_temp = 0\n",
    "    cross_start = mid\n",
    "    for i in range(mid - 1, start - 1, -1):\n",
    "        sum_temp = sum_temp + alist[i]\n",
    "        if sum_temp > sum_left:\n",
    "            sum_left = sum_temp\n",
    "            cross_start = i\n",
    " \n",
    "    sum_right = float('-inf')\n",
    "    sum_temp = 0\n",
    "    cross_end = mid + 1\n",
    "    for i in range(mid, end):\n",
    "        sum_temp = sum_temp + alist[i]\n",
    "        if sum_temp > sum_right:\n",
    "            sum_right = sum_temp\n",
    "            cross_end = i + 1\n",
    "    return cross_start, cross_end, sum_left + sum_right\n",
    " \n",
    "alist = input('Enter the list of numbers: ')\n",
    "alist = alist.split()\n",
    "alist = [int(x) for x in alist]\n",
    "start, end, maximum = find_max_subarray(alist, 0, len(alist))\n",
    "print('The maximum subarray starts at index {}, ends at index {}'\n",
    "      ' and has sum {}.'.format(start, end - 1, maximum))"
   ]
  },
  {
   "cell_type": "markdown",
   "metadata": {},
   "source": [
    "**Q22. Python Program to solve Maximum Subarray Problem using Kadane’s Algorithm**"
   ]
  },
  {
   "cell_type": "code",
   "execution_count": 5,
   "metadata": {},
   "outputs": [
    {
     "name": "stdout",
     "output_type": "stream",
     "text": [
      "Enter the list of numbers: 2 5 8 9 6 \n",
      "The maximum subarray starts at index 0, ends at index 4 and has sum 30.\n"
     ]
    }
   ],
   "source": [
    "#Python Code:\n",
    "def find_max_subarray(alist, start, end):\n",
    "    \"\"\"Returns (l, r, m) such that alist[l:r] is the maximum subarray in\n",
    "    A[start:end] with sum m. Here A[start:end] means all A[x] for start <= x <\n",
    "    end.\"\"\"\n",
    "    max_ending_at_i = max_seen_so_far = alist[start]\n",
    "    max_left_at_i = max_left_so_far = start\n",
    "    # max_right_at_i is always i + 1\n",
    "    max_right_so_far = start + 1\n",
    "    for i in range(start + 1, end):\n",
    "        if max_ending_at_i > 0:\n",
    "            max_ending_at_i += alist[i]\n",
    "        else:\n",
    "            max_ending_at_i = alist[i]\n",
    "            max_left_at_i = i\n",
    "        if max_ending_at_i > max_seen_so_far:\n",
    "            max_seen_so_far = max_ending_at_i\n",
    "            max_left_so_far = max_left_at_i\n",
    "            max_right_so_far = i + 1\n",
    "    return max_left_so_far, max_right_so_far, max_seen_so_far\n",
    "\n",
    "alist = input('Enter the list of numbers: ')\n",
    "alist = alist.split()\n",
    "alist = [int(x) for x in alist]\n",
    "start, end, maximum = find_max_subarray(alist, 0, len(alist))\n",
    "print('The maximum subarray starts at index {}, ends at index {}'\n",
    "      ' and has sum {}.'.format(start, end - 1, maximum))"
   ]
  }
 ],
 "metadata": {
  "kernelspec": {
   "display_name": "Python 3",
   "language": "python",
   "name": "python3"
  },
  "language_info": {
   "codemirror_mode": {
    "name": "ipython",
    "version": 3
   },
   "file_extension": ".py",
   "mimetype": "text/x-python",
   "name": "python",
   "nbconvert_exporter": "python",
   "pygments_lexer": "ipython3",
   "version": "3.7.4"
  }
 },
 "nbformat": 4,
 "nbformat_minor": 2
}
