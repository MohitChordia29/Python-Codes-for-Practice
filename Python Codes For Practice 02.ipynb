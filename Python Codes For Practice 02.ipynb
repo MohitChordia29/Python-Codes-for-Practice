{
 "cells": [
  {
   "cell_type": "markdown",
   "metadata": {},
   "source": [
    "### Python Programming Examples on Mathematical Functions"
   ]
  },
  {
   "cell_type": "markdown",
   "metadata": {},
   "source": [
    "**Q1. Python Program to Check if a Date is Valid and Print the Incremented Date if it is**"
   ]
  },
  {
   "cell_type": "code",
   "execution_count": 4,
   "metadata": {},
   "outputs": [
    {
     "name": "stdout",
     "output_type": "stream",
     "text": [
      "Enter the date: 12/12/2020\n",
      "The incremented date is:  13 12 2020\n"
     ]
    }
   ],
   "source": [
    "#Python Code:\n",
    "date=input(\"Enter the date: \")\n",
    "dd,mm,yy=date.split('/')\n",
    "dd=int(dd)\n",
    "mm=int(mm)\n",
    "yy=int(yy)\n",
    "if(mm==1 or mm==3 or mm==5 or mm==7 or mm==8 or mm==10 or mm==12):\n",
    "    max1=31\n",
    "elif(mm==4 or mm==6 or mm==9 or mm==11):\n",
    "    max1=30\n",
    "elif(yy%4==0 and yy%100!=0 or yy%400==0):\n",
    "    max1=29\n",
    "else:\n",
    "    max1=28\n",
    "if(mm<1 or mm>12):\n",
    "    print(\"Date is invalid.\")\n",
    "elif(dd<1 or dd>max1):\n",
    "    print(\"Date is invalid.\")\n",
    "elif(dd==max1 and mm!=12):\n",
    "    dd=1\n",
    "    mm=mm+1\n",
    "    print(\"The incremented date is: \",dd,mm,yy)\n",
    "elif(dd==31 and mm==12):\n",
    "    dd=1\n",
    "    mm=1\n",
    "    yy=yy+1\n",
    "    print(\"The incremented date is: \",dd,mm,yy)\n",
    "else:\n",
    "    dd=dd+1\n",
    "    print(\"The incremented date is: \",dd,mm,yy)"
   ]
  },
  {
   "cell_type": "markdown",
   "metadata": {},
   "source": [
    "**Q2. Python Program to Check Whether a Given Year is a Leap Year**"
   ]
  },
  {
   "cell_type": "code",
   "execution_count": 7,
   "metadata": {},
   "outputs": [
    {
     "name": "stdout",
     "output_type": "stream",
     "text": [
      "Enter year to be checked:2000\n",
      "The year is a leap year!\n"
     ]
    }
   ],
   "source": [
    "#Python Code:\n",
    "year=int(input(\"Enter year to be checked:\"))\n",
    "if(year%4==0 and year%100!=0 or year%400==0):\n",
    "    print(\"The year is a leap year!\")\n",
    "else:\n",
    "    print(\"The year isn't a leap year!\")"
   ]
  },
  {
   "cell_type": "markdown",
   "metadata": {},
   "source": [
    "**Q3. Python Program to Compute Simple Interest Given all the Required Values**"
   ]
  },
  {
   "cell_type": "code",
   "execution_count": 11,
   "metadata": {},
   "outputs": [
    {
     "name": "stdout",
     "output_type": "stream",
     "text": [
      "Enter the Principle Amount: 52000\n",
      "Enter the Time(in years): 2\n",
      "Enter the Rate: 7\n",
      "The Simple Interest is:  7280.0\n"
     ]
    }
   ],
   "source": [
    "#Python Code:\n",
    "principle=float(input(\"Enter the Principle Amount: \"))\n",
    "time=int(input(\"Enter the Time(in years): \"))\n",
    "rate=float(input(\"Enter the Rate: \"))\n",
    "simple_interest=(principle*time*rate)/100\n",
    "print(\"The Simple Interest is: \",simple_interest)"
   ]
  },
  {
   "cell_type": "markdown",
   "metadata": {},
   "source": [
    "**Q4. Python Program to Read Height in Centimeters and then Convert the Height to Feet and Inches**"
   ]
  },
  {
   "cell_type": "code",
   "execution_count": 14,
   "metadata": {},
   "outputs": [
    {
     "name": "stdout",
     "output_type": "stream",
     "text": [
      "Enter the Height in Centimeters: 52\n",
      "The length in Inches 20.49\n",
      "The length in Feet 1.71\n"
     ]
    }
   ],
   "source": [
    "#Python Code:\n",
    "cm=int(input(\"Enter the Height in Centimeters: \"))\n",
    "inches=0.394*cm\n",
    "feet=0.0328*cm\n",
    "print(\"The length in Inches\",round(inches,2))\n",
    "print(\"The length in Feet\",round(feet,2))"
   ]
  },
  {
   "cell_type": "markdown",
   "metadata": {},
   "source": [
    "**Q5. Python Program to Take the Temperature in Celcius and Covert it to Farenheit**"
   ]
  },
  {
   "cell_type": "code",
   "execution_count": 16,
   "metadata": {},
   "outputs": [
    {
     "name": "stdout",
     "output_type": "stream",
     "text": [
      "Enter the Temperature in Celcius: 50\n",
      "The Temperature in Farenheit is:  122.0\n"
     ]
    }
   ],
   "source": [
    "#Python Code:\n",
    "celsius=int(input(\"Enter the Temperature in Celcius: \"))\n",
    "f=(celsius*1.8)+32\n",
    "print(\"The Temperature in Farenheit is: \",f)"
   ]
  },
  {
   "cell_type": "markdown",
   "metadata": {},
   "source": [
    "**Q6. Python Program to Compute Prime Factors of an Integer**"
   ]
  },
  {
   "cell_type": "code",
   "execution_count": 18,
   "metadata": {},
   "outputs": [
    {
     "name": "stdout",
     "output_type": "stream",
     "text": [
      "Enter an Integer: 50\n",
      "Factors are: \n",
      "2\n",
      "5\n"
     ]
    }
   ],
   "source": [
    "#Python Code:\n",
    "n=int(input(\"Enter an Integer: \"))\n",
    "print(\"Factors are: \")\n",
    "i=1\n",
    "while(i<=n):\n",
    "    k=0\n",
    "    if(n%i==0):\n",
    "        j=1\n",
    "        while(j<=i):\n",
    "            if(i%j==0):\n",
    "                k=k+1\n",
    "            j=j+1\n",
    "        if(k==2):\n",
    "            print(i)\n",
    "    i=i+1"
   ]
  },
  {
   "cell_type": "markdown",
   "metadata": {},
   "source": [
    "**Q7. Python Program to Generate all the Divisors of an Integer**"
   ]
  },
  {
   "cell_type": "code",
   "execution_count": 19,
   "metadata": {},
   "outputs": [
    {
     "name": "stdout",
     "output_type": "stream",
     "text": [
      "Enter an Integer: 50\n",
      "The divisors of the Number are: \n",
      "1\n",
      "2\n",
      "5\n",
      "10\n",
      "25\n",
      "50\n"
     ]
    }
   ],
   "source": [
    "#Python Code:\n",
    "n=int(input(\"Enter an Integer: \"))\n",
    "print(\"The divisors of the Number are: \")\n",
    "for i in range(1,n+1):\n",
    "    if(n%i==0):\n",
    "        print(i)"
   ]
  },
  {
   "cell_type": "markdown",
   "metadata": {},
   "source": [
    "**Q8. Python Program to Print Table of a Given Number**"
   ]
  },
  {
   "cell_type": "code",
   "execution_count": 23,
   "metadata": {},
   "outputs": [
    {
     "name": "stdout",
     "output_type": "stream",
     "text": [
      "Enter the number to print the Tables for: 8\n",
      "8 x 1 = 8\n",
      "8 x 2 = 16\n",
      "8 x 3 = 24\n",
      "8 x 4 = 32\n",
      "8 x 5 = 40\n",
      "8 x 6 = 48\n",
      "8 x 7 = 56\n",
      "8 x 8 = 64\n",
      "8 x 9 = 72\n",
      "8 x 10 = 80\n"
     ]
    }
   ],
   "source": [
    "#Python Code:\n",
    "n=int(input(\"Enter the number to print the Tables for: \"))\n",
    "for i in range(1,11):\n",
    "    print(n,\"x\",i,\"=\",n*i)"
   ]
  },
  {
   "cell_type": "markdown",
   "metadata": {},
   "source": [
    "**Q9. Python Program to Print Sum of Negative Numbers, Positive Even Numbers and Positive Odd numbers in a List**"
   ]
  },
  {
   "cell_type": "code",
   "execution_count": 26,
   "metadata": {},
   "outputs": [
    {
     "name": "stdout",
     "output_type": "stream",
     "text": [
      "Enter the number of elements to be in the list: 5\n",
      "Element: 24\n",
      "Element: 59\n",
      "Element: -12\n",
      "Element: -96\n",
      "Element: 88\n",
      "Sum of all Positive Even numbers:  112\n",
      "Sum of all Positive Odd numbers:  59\n",
      "Sum of all Negative numbers:  -108\n"
     ]
    }
   ],
   "source": [
    "#Python Code:\n",
    "n=int(input(\"Enter the number of elements to be in the list: \"))\n",
    "b=[]\n",
    "for i in range(0,n):\n",
    "    a=int(input(\"Element: \"))\n",
    "    b.append(a)\n",
    "sum1=0\n",
    "sum2=0\n",
    "sum3=0\n",
    "for j in b:\n",
    "    if(j>0):\n",
    "        if(j%2==0):\n",
    "            sum1=sum1+j\n",
    "        else:\n",
    "            sum2=sum2+j\n",
    "    else:\n",
    "        sum3=sum3+j\n",
    "print(\"Sum of all Positive Even numbers: \",sum1)\n",
    "print(\"Sum of all Positive Odd numbers: \",sum2)\n",
    "print(\"Sum of all Negative numbers: \",sum3)"
   ]
  },
  {
   "cell_type": "markdown",
   "metadata": {},
   "source": [
    "**Q10. Python Program to Print Largest Even and Largest Odd Number in a List**"
   ]
  },
  {
   "cell_type": "code",
   "execution_count": 27,
   "metadata": {},
   "outputs": [
    {
     "name": "stdout",
     "output_type": "stream",
     "text": [
      "Enter the number of elements to be in the list: 5\n",
      "Element: 25\n",
      "Element: 48\n",
      "Element: -52\n",
      "Element: -19\n",
      "Element: 23\n",
      "Largest Even number:  48\n",
      "Largest Odd number:  25\n"
     ]
    }
   ],
   "source": [
    "#Python Code:\n",
    "n=int(input(\"Enter the number of elements to be in the list: \"))\n",
    "b=[]\n",
    "for i in range(0,n):\n",
    "    a=int(input(\"Element: \"))\n",
    "    b.append(a)\n",
    "c=[]\n",
    "d=[]\n",
    "for i in b:\n",
    "    if(i%2==0):\n",
    "        c.append(i)\n",
    "    else:\n",
    "        d.append(i)\n",
    "c.sort()\n",
    "d.sort()\n",
    "count1=0\n",
    "count2=0\n",
    "for k in c:\n",
    "    count1=count1+1\n",
    "for j in d:\n",
    "    count2=count2+1\n",
    "print(\"Largest Even number: \",c[count1-1])\n",
    "print(\"Largest Odd number: \",d[count2-1])"
   ]
  },
  {
   "cell_type": "markdown",
   "metadata": {},
   "source": [
    "**Q11. Python Program to Form an Integer that has the Number of Digits at Ten’s Place and the Least Significant Digit of the Entered Integer at One’s Place**"
   ]
  },
  {
   "cell_type": "code",
   "execution_count": 32,
   "metadata": {},
   "outputs": [
    {
     "name": "stdout",
     "output_type": "stream",
     "text": [
      "Enter the number: 55\n",
      "The new number formed:  25\n"
     ]
    }
   ],
   "source": [
    "#Python Code:\n",
    "n=int(input(\"Enter the number: \"))\n",
    "tmp=n\n",
    "k=0\n",
    "while(n>0):\n",
    "    k=k+1\n",
    "    n=n//10\n",
    "b=str(tmp)\n",
    "c=str(k)\n",
    "d=c+b[k-1]\n",
    "print(\"The new number formed: \",int(d))"
   ]
  },
  {
   "cell_type": "markdown",
   "metadata": {},
   "source": [
    "**Q12. Python Program to Find Those Numbers which are Divisible by 7 and Multiple of 5 in a Given Range of Numbers**"
   ]
  },
  {
   "cell_type": "code",
   "execution_count": 34,
   "metadata": {},
   "outputs": [
    {
     "name": "stdout",
     "output_type": "stream",
     "text": [
      "Enter the Lower range: 10\n",
      "Enter the Upper range: 50\n",
      "35\n"
     ]
    }
   ],
   "source": [
    "#Python Code:\n",
    "lower=int(input(\"Enter the Lower range: \"))\n",
    "upper=int(input(\"Enter the Upper range: \"))\n",
    "for i in range (lower,upper+1):\n",
    "    if(i%7==0 and i%5==0):\n",
    "        print(i)"
   ]
  },
  {
   "cell_type": "markdown",
   "metadata": {},
   "source": [
    "**Q13. Python Program to Check if a Number is an Armstrong Number**"
   ]
  },
  {
   "cell_type": "code",
   "execution_count": 35,
   "metadata": {},
   "outputs": [
    {
     "name": "stdout",
     "output_type": "stream",
     "text": [
      "Enter any number: 52434\n",
      "The number isn't an Arsmtrong number. \n"
     ]
    }
   ],
   "source": [
    "#Python Code:\n",
    "n=int(input(\"Enter any number: \"))\n",
    "a=list(map(int,str(n)))\n",
    "b=list(map(lambda x:x**3,a))\n",
    "if(sum(b)==n):\n",
    "    print(\"The number is an Armstrong number. \")\n",
    "else:\n",
    "    print(\"The number isn't an Arsmtrong number. \")"
   ]
  },
  {
   "cell_type": "markdown",
   "metadata": {},
   "source": [
    "**Q14. Python Program to Print the Pascal’s triangle for n number of rows given by the user**"
   ]
  },
  {
   "cell_type": "code",
   "execution_count": 37,
   "metadata": {},
   "outputs": [
    {
     "name": "stdout",
     "output_type": "stream",
     "text": [
      "Enter number of rows: 5\n",
      "                     1 \n",
      "                  1      1 \n",
      "               1      2      1 \n",
      "            1      3      3      1 \n",
      "         1      4      6      4      1 \n"
     ]
    }
   ],
   "source": [
    "#Python Code:\n",
    "n=int(input(\"Enter number of rows: \"))\n",
    "a=[]\n",
    "for i in range(n):\n",
    "    a.append([])\n",
    "    a[i].append(1)\n",
    "    for j in range(1,i):\n",
    "        a[i].append(a[i-1][j-1]+a[i-1][j])\n",
    "    if(n!=0):\n",
    "        a[i].append(1)\n",
    "for i in range(n):\n",
    "    print(\"   \"*(n-i),end=\" \",sep=\" \")\n",
    "    for j in range(0,i+1):\n",
    "        print('{0:6}'.format(a[i][j]),end=\" \",sep=\" \")\n",
    "    print()"
   ]
  },
  {
   "cell_type": "markdown",
   "metadata": {},
   "source": [
    "**Q15. Python Program to Check if a Number is a Perfect Number**"
   ]
  },
  {
   "cell_type": "code",
   "execution_count": 39,
   "metadata": {},
   "outputs": [
    {
     "name": "stdout",
     "output_type": "stream",
     "text": [
      "Enter any number: 52\n",
      "The number is not a Perfect number!\n"
     ]
    }
   ],
   "source": [
    "#Python Code:\n",
    "n = int(input(\"Enter any number: \"))\n",
    "sum1 = 0\n",
    "for i in range(1, n):\n",
    "    if(n % i == 0):\n",
    "        sum1 = sum1 + i\n",
    "if (sum1 == n):\n",
    "    print(\"The number is a Perfect number!\")\n",
    "else:\n",
    "    print(\"The number is not a Perfect number!\")"
   ]
  },
  {
   "cell_type": "markdown",
   "metadata": {},
   "source": [
    "**Q16. Python Program to Check if a Number is a Strong Number**"
   ]
  },
  {
   "cell_type": "code",
   "execution_count": 46,
   "metadata": {},
   "outputs": [
    {
     "name": "stdout",
     "output_type": "stream",
     "text": [
      "Enter a number: 2\n",
      "The number is a Strong number!\n"
     ]
    }
   ],
   "source": [
    "#Python Code:\n",
    "sum1=0\n",
    "num=int(input(\"Enter a number: \"))\n",
    "temp=num\n",
    "while(num):\n",
    "    i=1\n",
    "    f=1\n",
    "    r=num%10\n",
    "    while(i<=r):\n",
    "        f=f*i\n",
    "        i=i+1\n",
    "    sum1=sum1+f\n",
    "    num=num//10\n",
    "if(sum1==temp):\n",
    "    print(\"The number is a Strong number!\")\n",
    "else:\n",
    "    print(\"The number is not a Strong number!\")"
   ]
  },
  {
   "cell_type": "markdown",
   "metadata": {},
   "source": [
    "**Q17. Python Program to Find the LCM of Two Numbers**"
   ]
  },
  {
   "cell_type": "code",
   "execution_count": 47,
   "metadata": {},
   "outputs": [
    {
     "name": "stdout",
     "output_type": "stream",
     "text": [
      "Enter the First number: 23\n",
      "Enter the Second number: 28\n",
      "LCM is: 644\n"
     ]
    }
   ],
   "source": [
    "#Python Code:\n",
    "a=int(input(\"Enter the First number: \"))\n",
    "b=int(input(\"Enter the Second number: \"))\n",
    "if(a>b):\n",
    "    min1=a\n",
    "else:\n",
    "    min1=b\n",
    "while(1):\n",
    "    if(min1%a==0 and min1%b==0):\n",
    "        print(\"LCM is:\",min1)\n",
    "        break\n",
    "    min1=min1+1"
   ]
  },
  {
   "cell_type": "markdown",
   "metadata": {},
   "source": [
    "**Q18. Python Program to Find the GCD of Two Numbers**"
   ]
  },
  {
   "cell_type": "code",
   "execution_count": 49,
   "metadata": {},
   "outputs": [
    {
     "name": "stdout",
     "output_type": "stream",
     "text": [
      "Enter the First number: 56\n",
      "Enter the Second number: 24\n",
      "The GCD of the two numbers is:  8\n"
     ]
    },
    {
     "name": "stderr",
     "output_type": "stream",
     "text": [
      "C:\\Users\\Admin-pc\\Anaconda3\\lib\\site-packages\\ipykernel_launcher.py:5: DeprecationWarning: fractions.gcd() is deprecated. Use math.gcd() instead.\n",
      "  \"\"\"\n"
     ]
    }
   ],
   "source": [
    "#Python Code:\n",
    "import fractions\n",
    "a=int(input(\"Enter the First number: \"))\n",
    "b=int(input(\"Enter the Second number: \"))\n",
    "print(\"The GCD of the two numbers is: \",fractions.gcd(a,b))"
   ]
  },
  {
   "cell_type": "markdown",
   "metadata": {},
   "source": [
    "**Q19. Python Program to Compute a Polynomial Equation given that the Coefficients of the Polynomial are stored in a List**"
   ]
  },
  {
   "cell_type": "code",
   "execution_count": 51,
   "metadata": {},
   "outputs": [
    {
     "name": "stdout",
     "output_type": "stream",
     "text": [
      "Enter the Coefficients of the form ax^3 + bx^2 + cx + d\n",
      "Enter Coefficient: 2\n",
      "Enter Coefficient: 6\n",
      "Enter Coefficient: 8\n",
      "Enter Coefficient: 12\n",
      "Enter the value of x: 20\n",
      "The value of the Polynomial is:  18572.0\n"
     ]
    }
   ],
   "source": [
    "#Python Code:\n",
    "import math\n",
    "print(\"Enter the Coefficients of the form ax^3 + bx^2 + cx + d\")\n",
    "lst=[]\n",
    "for i in range(0,4):\n",
    "    a=int(input(\"Enter Coefficient: \"))\n",
    "    lst.append(a)\n",
    "x=int(input(\"Enter the value of x: \"))\n",
    "sum1=0\n",
    "j=3\n",
    "for i in range(0,3):\n",
    "    while(j>0):\n",
    "        sum1=sum1+(lst[i]*math.pow(x,j))\n",
    "        break\n",
    "    j=j-1\n",
    "sum1=sum1+lst[3]\n",
    "print(\"The value of the Polynomial is: \",sum1)"
   ]
  },
  {
   "cell_type": "markdown",
   "metadata": {},
   "source": [
    "**Q20. Python Program to Check If Two Numbers are Amicable Numbers**"
   ]
  },
  {
   "cell_type": "code",
   "execution_count": 52,
   "metadata": {},
   "outputs": [
    {
     "name": "stdout",
     "output_type": "stream",
     "text": [
      "Enter number 1: 12\n",
      "Enter number 2: 18\n",
      "Not Amicable!\n"
     ]
    }
   ],
   "source": [
    "#Python Code:\n",
    "x=int(input('Enter number 1: '))\n",
    "y=int(input('Enter number 2: '))\n",
    "sum1=0\n",
    "sum2=0\n",
    "for i in range(1,x):\n",
    "    if x%i==0:\n",
    "        sum1+=i\n",
    "for j in range(1,y):\n",
    "    if y%j==0:\n",
    "        sum2+=j\n",
    "if(sum1==y and sum2==x):\n",
    "    print('Amicable!')\n",
    "else:\n",
    "    print('Not Amicable!')"
   ]
  },
  {
   "cell_type": "markdown",
   "metadata": {},
   "source": [
    "**Q21. Python Program to Find the Area of a Triangle Given All Three Sides**"
   ]
  },
  {
   "cell_type": "code",
   "execution_count": 53,
   "metadata": {},
   "outputs": [
    {
     "name": "stdout",
     "output_type": "stream",
     "text": [
      "Enter First side: 24\n",
      "Enter Second side: 12\n",
      "Enter Third side: 28\n",
      "Area of the Triangle is:  143.11\n"
     ]
    }
   ],
   "source": [
    "#Python Code:\n",
    "import math\n",
    "a=int(input(\"Enter First side: \"))\n",
    "b=int(input(\"Enter Second side: \"))\n",
    "c=int(input(\"Enter Third side: \"))\n",
    "s=(a+b+c)/2\n",
    "area=math.sqrt(s*(s-a)*(s-b)*(s-c))\n",
    "print(\"Area of the Triangle is: \",round(area,2))"
   ]
  },
  {
   "cell_type": "markdown",
   "metadata": {},
   "source": [
    "**Q22. Python Program to Find the Gravitational Force Acting Between Two Objects**"
   ]
  },
  {
   "cell_type": "code",
   "execution_count": 56,
   "metadata": {},
   "outputs": [
    {
     "name": "stdout",
     "output_type": "stream",
     "text": [
      "Enter the First mass: 1000000\n",
      "Enter the Second mass: 7000000\n",
      "Enter the distance between the centres of the masses: 30\n",
      "Hence, the Gravitational Force is:  0.52 N\n"
     ]
    }
   ],
   "source": [
    "#Python Code:\n",
    "m1=float(input(\"Enter the First mass: \"))\n",
    "m2=float(input(\"Enter the Second mass: \"))\n",
    "r=float(input(\"Enter the distance between the centres of the masses: \"))\n",
    "G=6.673*(10**-11)\n",
    "f=(G*m1*m2)/(r**2)\n",
    "print(\"Hence, the Gravitational Force is: \",round(f,2),\"N\")"
   ]
  },
  {
   "cell_type": "markdown",
   "metadata": {},
   "source": [
    "**Q23. Python Program to Check if a Number is a Prime Number**"
   ]
  },
  {
   "cell_type": "code",
   "execution_count": 64,
   "metadata": {},
   "outputs": [
    {
     "name": "stdout",
     "output_type": "stream",
     "text": [
      "Enter number: 7\n",
      "Number is Prime!\n"
     ]
    }
   ],
   "source": [
    "#Python Code:\n",
    "a=int(input(\"Enter number: \"))\n",
    "k=0\n",
    "for i in range(2,a//2+1):\n",
    "    if(a%i==0):\n",
    "        k=k+1\n",
    "if(k<=0):\n",
    "    print(\"Number is Prime!\")\n",
    "else:\n",
    "    print(\"Number isn't Prime!\")"
   ]
  },
  {
   "cell_type": "markdown",
   "metadata": {},
   "source": [
    "**Q24. Python Program to Find the Sum of the Series: 1 + 1/2 + 1/3 + ….. + 1/N**"
   ]
  },
  {
   "cell_type": "code",
   "execution_count": 66,
   "metadata": {},
   "outputs": [
    {
     "name": "stdout",
     "output_type": "stream",
     "text": [
      "Enter the number of Terms: 24\n",
      "The sum of series is:  3.78\n"
     ]
    }
   ],
   "source": [
    "#Python Code:\n",
    "n=int(input(\"Enter the number of Terms: \"))\n",
    "sum1=0\n",
    "for i in range(1,n+1):\n",
    "    sum1=sum1+(1/i)\n",
    "print(\"The sum of series is: \",round(sum1,2))"
   ]
  },
  {
   "cell_type": "markdown",
   "metadata": {},
   "source": [
    "**Q25. Python Program to Find the Sum of the Series: 1 + x^2/2 + x^3/3 + … x^n/n**"
   ]
  },
  {
   "cell_type": "code",
   "execution_count": 67,
   "metadata": {},
   "outputs": [
    {
     "name": "stdout",
     "output_type": "stream",
     "text": [
      "Enter the number of Terms: 21\n",
      "Enter the value of x: 4\n",
      "The sum of series is:  284068234466.35\n"
     ]
    }
   ],
   "source": [
    "#Python Code:\n",
    "n=int(input(\"Enter the number of Terms: \"))\n",
    "x=int(input(\"Enter the value of x: \"))\n",
    "sum1=1\n",
    "for i in range(2,n+1):\n",
    "    sum1=sum1+((x**i)/i)\n",
    "print(\"The sum of series is: \",round(sum1,2))"
   ]
  },
  {
   "cell_type": "markdown",
   "metadata": {},
   "source": [
    "**Q26. Python Program to Compute the Value of Euler’s Number e. Use the Formula: e = 1 + 1/1! + 1/2! + …… 1/n!**"
   ]
  },
  {
   "cell_type": "code",
   "execution_count": 68,
   "metadata": {},
   "outputs": [
    {
     "name": "stdout",
     "output_type": "stream",
     "text": [
      "Enter the number of Terms: 12\n",
      "The sum of series is:  2.72\n"
     ]
    }
   ],
   "source": [
    "#Python Code:\n",
    "import math\n",
    "n=int(input(\"Enter the number of Terms: \"))\n",
    "sum1=1\n",
    "for i in range(1,n+1):\n",
    "    sum1=sum1+(1/math.factorial(i))\n",
    "print(\"The sum of series is: \",round(sum1,2))"
   ]
  },
  {
   "cell_type": "markdown",
   "metadata": {},
   "source": [
    "**Q27. Python Program to Determine all Pythagorean Triplets in the Range**"
   ]
  },
  {
   "cell_type": "code",
   "execution_count": 2,
   "metadata": {},
   "outputs": [
    {
     "name": "stdout",
     "output_type": "stream",
     "text": [
      "Enter Upper limit: 24\n",
      "3 4 5\n",
      "8 6 10\n",
      "5 12 13\n",
      "15 8 17\n",
      "12 16 20\n"
     ]
    }
   ],
   "source": [
    "#Python Code:\n",
    "limit=int(input(\"Enter Upper limit: \"))\n",
    "c=0\n",
    "m=2\n",
    "while(c<limit):\n",
    "    for n in range(1,m+1):\n",
    "        a=m*m-n*n\n",
    "        b=2*m*n\n",
    "        c=m*m+n*n\n",
    "        if(c>limit):\n",
    "            break\n",
    "        if(a==0 or b==0 or c==0):\n",
    "            break\n",
    "        print(a,b,c)\n",
    "    m=m+1"
   ]
  },
  {
   "cell_type": "markdown",
   "metadata": {},
   "source": [
    "**Q28. Python Program to Search the Number of Times a Particular Number Occurs in a List**"
   ]
  },
  {
   "cell_type": "code",
   "execution_count": 3,
   "metadata": {},
   "outputs": [
    {
     "name": "stdout",
     "output_type": "stream",
     "text": [
      "Enter number of Elements: 12\n",
      "Enter Element: 15\n",
      "Enter Element: 18\n",
      "Enter Element: 16\n",
      "Enter Element: 24\n",
      "Enter Element: 28\n",
      "Enter Element: 52\n",
      "Enter Element: 46\n",
      "Enter Element: 12\n",
      "Enter Element: 24\n",
      "Enter Element: 18\n",
      "Enter Element: 16\n",
      "Enter Element: 24\n",
      "Enter the number to be counted: 18\n",
      "Number of times 18 appears is:  2\n"
     ]
    }
   ],
   "source": [
    "#Python Code:\n",
    "a=[]\n",
    "n=int(input(\"Enter number of Elements: \"))\n",
    "for i in range(1,n+1):\n",
    "    b=int(input(\"Enter Element: \"))\n",
    "    a.append(b)\n",
    "k=0\n",
    "num=int(input(\"Enter the number to be counted: \"))\n",
    "for j in a:\n",
    "    if(j==num):\n",
    "        k=k+1\n",
    "print(\"Number of times\",num,\"appears is: \",k)"
   ]
  },
  {
   "cell_type": "markdown",
   "metadata": {},
   "source": [
    "**Q29. Python Program to test Collatz Conjecture for a Given Number**"
   ]
  },
  {
   "cell_type": "code",
   "execution_count": 4,
   "metadata": {},
   "outputs": [
    {
     "name": "stdout",
     "output_type": "stream",
     "text": [
      "Enter n: 22\n",
      "Sequence: 22 11 34 17 52 26 13 40 20 10 5 16 8 4 2 1"
     ]
    }
   ],
   "source": [
    "#Python Code:\n",
    "def collatz(n):\n",
    "    while n > 1:\n",
    "        print(n, end=' ')\n",
    "        if (n % 2):\n",
    "            # n is odd\n",
    "            n = 3*n + 1\n",
    "        else:\n",
    "            # n is even\n",
    "            n = n//2\n",
    "    print(1, end='')\n",
    " \n",
    "n = int(input('Enter n: '))\n",
    "print('Sequence: ', end='')\n",
    "collatz(n)"
   ]
  },
  {
   "cell_type": "markdown",
   "metadata": {},
   "source": [
    "**Q30. Python Program to Count Set Bits in a Number**"
   ]
  },
  {
   "cell_type": "code",
   "execution_count": 12,
   "metadata": {},
   "outputs": [
    {
     "name": "stdout",
     "output_type": "stream",
     "text": [
      "Enter n: 12\n",
      "Number of set bits: 2\n"
     ]
    }
   ],
   "source": [
    "#Python Code:\n",
    "def count_set_bits(n):\n",
    "    count = 0\n",
    "    while n:\n",
    "        n &= n - 1\n",
    "        count += 1\n",
    "    return count\n",
    " \n",
    "n = int(input('Enter n: '))\n",
    "print('Number of set bits:', count_set_bits(n))"
   ]
  },
  {
   "cell_type": "markdown",
   "metadata": {},
   "source": [
    "**Q31. Python Program to Find Whether a Number is a Power of Two**"
   ]
  },
  {
   "cell_type": "code",
   "execution_count": 15,
   "metadata": {},
   "outputs": [
    {
     "name": "stdout",
     "output_type": "stream",
     "text": [
      "Enter a number: 15\n",
      "15 is not a power of two.\n"
     ]
    }
   ],
   "source": [
    "#Python Code:\n",
    "def is_power_of_two(n):\n",
    "    \"\"\"Return True if n is a power of two.\"\"\"\n",
    "    if n <= 0:\n",
    "        return False\n",
    "    else:\n",
    "        return n & (n - 1) == 0\n",
    " \n",
    "n = int(input('Enter a number: '))\n",
    " \n",
    "if is_power_of_two(n):\n",
    "    print('{} is a power of two.'.format(n))\n",
    "else:\n",
    "    print('{} is not a power of two.'.format(n))"
   ]
  },
  {
   "cell_type": "markdown",
   "metadata": {},
   "source": [
    "**Q32. Python Program to Clear the Rightmost Set Bit of a Number**"
   ]
  },
  {
   "cell_type": "code",
   "execution_count": 18,
   "metadata": {},
   "outputs": [
    {
     "name": "stdout",
     "output_type": "stream",
     "text": [
      "Enter a number: 56\n",
      "n with its rightmost set bit cleared equals: 48\n"
     ]
    }
   ],
   "source": [
    "#Python Code:\n",
    "def clear_rightmost_set_bit(n):\n",
    "    \"\"\"Clear rightmost set bit of n and return it.\"\"\"\n",
    "    return n & (n - 1)\n",
    " \n",
    "n = int(input('Enter a number: '))\n",
    "ans = clear_rightmost_set_bit(n)\n",
    "print('n with its rightmost set bit cleared equals:', ans)"
   ]
  },
  {
   "cell_type": "markdown",
   "metadata": {},
   "source": [
    "**Q33. Python Program to Generate Gray Codes using Recursion**"
   ]
  },
  {
   "cell_type": "code",
   "execution_count": 29,
   "metadata": {},
   "outputs": [
    {
     "name": "stdout",
     "output_type": "stream",
     "text": [
      "Enter the number of bits: 5\n",
      "All 5-bit Gray Codes:\n",
      "['00000', '00001', '00011', '00010', '00110', '00111', '00101', '00100', '01100', '01101', '01111', '01110', '01010', '01011', '01001', '01000', '11000', '11001', '11011', '11010', '11110', '11111', '11101', '11100', '10100', '10101', '10111', '10110', '10010', '10011', '10001', '10000']\n"
     ]
    }
   ],
   "source": [
    "#Python Code:\n",
    "def get_gray_codes(n):\n",
    "    \"\"\"Return n-bit Gray code in a list.\"\"\"\n",
    "    if n == 0:\n",
    "        return ['']\n",
    "    first_half = get_gray_codes(n - 1)\n",
    "    second_half = first_half.copy()\n",
    " \n",
    "    first_half = ['0' + code for code in first_half]\n",
    "    second_half = ['1' + code for code in reversed(second_half)]\n",
    " \n",
    "    return first_half + second_half\n",
    " \n",
    "n = int(input('Enter the number of bits: '))\n",
    "codes = get_gray_codes(n)\n",
    "print('All {}-bit Gray Codes:'.format(n))\n",
    "print(codes)"
   ]
  },
  {
   "cell_type": "markdown",
   "metadata": {},
   "source": [
    "**Q34. Python Program to Convert Gray Code to Binary**"
   ]
  },
  {
   "cell_type": "code",
   "execution_count": 40,
   "metadata": {},
   "outputs": [
    {
     "name": "stdout",
     "output_type": "stream",
     "text": [
      "Enter Gray Codeword: 110\n",
      "In binary: 100\n"
     ]
    }
   ],
   "source": [
    "#Python Code:\n",
    "def gray_to_binary(n):\n",
    "    \"\"\"Convert Gray codeword to binary and return it.\"\"\"\n",
    "    n = int(n, 2) # convert to int\n",
    "    mask = n\n",
    "    while mask != 0:\n",
    "        mask >>= 1\n",
    "        n ^= mask\n",
    " \n",
    "    # bin(n) returns n's binary representation with a '0b' prefixed\n",
    "    # the slice operation is to remove the prefix\n",
    "    return bin(n)[2:]\n",
    "\n",
    "g = input('Enter Gray Codeword: ')\n",
    "b = gray_to_binary(g)\n",
    "print('In binary:', b)"
   ]
  },
  {
   "cell_type": "markdown",
   "metadata": {},
   "source": [
    "**Q35. Python Program to Convert Binary to Gray Code**"
   ]
  },
  {
   "cell_type": "code",
   "execution_count": 41,
   "metadata": {},
   "outputs": [
    {
     "name": "stdout",
     "output_type": "stream",
     "text": [
      "Enter binary number: 100\n",
      "Gray codeword: 110\n"
     ]
    }
   ],
   "source": [
    "#Python Code:\n",
    "def binary_to_gray(n):\n",
    "    \"\"\"Convert Binary to Gray codeword and return it.\"\"\"\n",
    "    n = int(n, 2) # convert to int\n",
    "    n ^= (n >> 1)\n",
    " \n",
    "    # bin(n) returns n's binary representation with a '0b' prefixed\n",
    "    # the slice operation is to remove the prefix\n",
    "    return bin(n)[2:]\n",
    "\n",
    "g = input('Enter binary number: ')\n",
    "b = binary_to_gray(g)\n",
    "print('Gray codeword:', b)"
   ]
  }
 ],
 "metadata": {
  "kernelspec": {
   "display_name": "Python 3",
   "language": "python",
   "name": "python3"
  },
  "language_info": {
   "codemirror_mode": {
    "name": "ipython",
    "version": 3
   },
   "file_extension": ".py",
   "mimetype": "text/x-python",
   "name": "python",
   "nbconvert_exporter": "python",
   "pygments_lexer": "ipython3",
   "version": "3.7.4"
  }
 },
 "nbformat": 4,
 "nbformat_minor": 2
}
