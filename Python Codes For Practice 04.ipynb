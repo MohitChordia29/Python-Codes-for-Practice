{
 "cells": [
  {
   "cell_type": "markdown",
   "metadata": {},
   "source": [
    "### Python Programming Examples on Strings"
   ]
  },
  {
   "cell_type": "markdown",
   "metadata": {},
   "source": [
    "**Q1. Python Program to Replace all Occurrences of ‘a’ with $ in a String**"
   ]
  },
  {
   "cell_type": "code",
   "execution_count": 3,
   "metadata": {},
   "outputs": [
    {
     "name": "stdout",
     "output_type": "stream",
     "text": [
      "Enter string: India\n",
      "Modified string: \n",
      "Indi$\n"
     ]
    }
   ],
   "source": [
    "#Python Code:\n",
    "string=input(\"Enter string: \")\n",
    "string=string.replace('a','$')\n",
    "string=string.replace('A','$')\n",
    "print(\"Modified string: \")\n",
    "print(string)"
   ]
  },
  {
   "cell_type": "markdown",
   "metadata": {},
   "source": [
    "**Q2. Python Program to Remove the nth Index Character from a Non-Empty String**"
   ]
  },
  {
   "cell_type": "code",
   "execution_count": 5,
   "metadata": {},
   "outputs": [
    {
     "name": "stdout",
     "output_type": "stream",
     "text": [
      "Enter the string: Bnagalore\n",
      "Enter the index of the character to remove: 5\n",
      "Modified string: \n",
      "Bnagaore\n"
     ]
    }
   ],
   "source": [
    "#Python Code:\n",
    "def remove(string, n):  \n",
    "      first = string[:n]   \n",
    "      last = string[n+1:]  \n",
    "      return first + last\n",
    "string = input(\"Enter the string: \")\n",
    "n = int(input(\"Enter the index of the character to remove: \"))\n",
    "print(\"Modified string: \")\n",
    "print(remove(string, n))"
   ]
  },
  {
   "cell_type": "markdown",
   "metadata": {},
   "source": [
    "**Q3. Python Program to Detect if Two Strings are Anagrams**"
   ]
  },
  {
   "cell_type": "code",
   "execution_count": 7,
   "metadata": {},
   "outputs": [
    {
     "name": "stdout",
     "output_type": "stream",
     "text": [
      "Enter first string: racecar\n",
      "Enter second string: carrace\n",
      "The strings are anagrams.\n"
     ]
    }
   ],
   "source": [
    "#Python Code:\n",
    "s1 = input(\"Enter first string: \")\n",
    "s2 = input(\"Enter second string: \")\n",
    "if(sorted(s1)==sorted(s2)):\n",
    "      print(\"The strings are anagrams.\")\n",
    "else:\n",
    "      print(\"The strings aren't anagrams.\")"
   ]
  },
  {
   "cell_type": "markdown",
   "metadata": {},
   "source": [
    "**Q4. Python Program to Form a New String where the First Character and the Last Character have been Exchanged**"
   ]
  },
  {
   "cell_type": "code",
   "execution_count": 9,
   "metadata": {},
   "outputs": [
    {
     "name": "stdout",
     "output_type": "stream",
     "text": [
      "Enter string: Bangalore\n",
      "Modified string: \n",
      "eangalorB\n"
     ]
    }
   ],
   "source": [
    "#Python Code:\n",
    "def change(string):\n",
    "      return string[-1:] + string[1:-1] + string[:1]\n",
    "string = input(\"Enter string: \")\n",
    "print(\"Modified string: \")\n",
    "print(change(string))"
   ]
  },
  {
   "cell_type": "markdown",
   "metadata": {},
   "source": [
    "**Q5. Python Program to Count the Number of Vowels in a String**"
   ]
  },
  {
   "cell_type": "code",
   "execution_count": 10,
   "metadata": {},
   "outputs": [
    {
     "name": "stdout",
     "output_type": "stream",
     "text": [
      "Enter string: Bnagalore\n",
      "Number of vowels are: \n",
      "4\n"
     ]
    }
   ],
   "source": [
    "#Python Code:\n",
    "string = input(\"Enter string: \")\n",
    "vowels = 0\n",
    "for i in string:\n",
    "      if(i=='a' or i=='e' or i=='i' or i=='o' or i=='u' or i=='A' or i=='E' or i=='I' or i=='O' or i=='U'):\n",
    "            vowels = vowels+1\n",
    "print(\"Number of vowels are: \")\n",
    "print(vowels)"
   ]
  },
  {
   "cell_type": "markdown",
   "metadata": {},
   "source": [
    "**Q6. Python Program to Take in a String and Replace Every Blank Space with Hyphen**"
   ]
  },
  {
   "cell_type": "code",
   "execution_count": 13,
   "metadata": {},
   "outputs": [
    {
     "name": "stdout",
     "output_type": "stream",
     "text": [
      "Enter string: Happy are those who work hard\n",
      "Modified string: \n",
      "Happy-are-those-who-work-hard\n"
     ]
    }
   ],
   "source": [
    "#Python Code:\n",
    "string = input(\"Enter string: \")\n",
    "string = string.replace(' ','-')\n",
    "print(\"Modified string: \")\n",
    "print(string)"
   ]
  },
  {
   "cell_type": "markdown",
   "metadata": {},
   "source": [
    "**Q7. Python Program to Calculate the Length of a String Without Using a Library Function**"
   ]
  },
  {
   "cell_type": "code",
   "execution_count": 14,
   "metadata": {},
   "outputs": [
    {
     "name": "stdout",
     "output_type": "stream",
     "text": [
      "Enter string: Happy Learning\n",
      "Length of the string is: \n",
      "14\n"
     ]
    }
   ],
   "source": [
    "#Python Code:\n",
    "string = input(\"Enter string: \")\n",
    "count = 0\n",
    "for i in string:\n",
    "      count = count+1\n",
    "print(\"Length of the string is: \")\n",
    "print(count)"
   ]
  },
  {
   "cell_type": "markdown",
   "metadata": {},
   "source": [
    "**Q8. Python Program to Remove the Characters of Odd Index Values in a String**"
   ]
  },
  {
   "cell_type": "code",
   "execution_count": 16,
   "metadata": {},
   "outputs": [
    {
     "name": "stdout",
     "output_type": "stream",
     "text": [
      "Enter string: Happy\n",
      "Modified string is: \n",
      "Hpy\n"
     ]
    }
   ],
   "source": [
    "#Python Code:\n",
    "def modify(string):  \n",
    "  final = \"\"   \n",
    "  for i in range(len(string)):  \n",
    "    if i % 2 == 0:  \n",
    "      final = final + string[i]  \n",
    "  return final\n",
    "string = input(\"Enter string: \")\n",
    "print(\"Modified string is: \")\n",
    "print(modify(string))"
   ]
  },
  {
   "cell_type": "markdown",
   "metadata": {},
   "source": [
    "**Q9. Python Program to Calculate the Number of Words and the Number of Characters Present in a String**"
   ]
  },
  {
   "cell_type": "code",
   "execution_count": 17,
   "metadata": {},
   "outputs": [
    {
     "name": "stdout",
     "output_type": "stream",
     "text": [
      "Enter string: Happy are those who work hard.\n",
      "Number of words in the string: \n",
      "6\n",
      "Number of characters in the string: \n",
      "30\n"
     ]
    }
   ],
   "source": [
    "#Python Code:\n",
    "string = input(\"Enter string: \")\n",
    "char=0\n",
    "word=1\n",
    "for i in string:\n",
    "    char=char+1\n",
    "    if(i==' '):\n",
    "        word=word+1\n",
    "print(\"Number of words in the string: \")\n",
    "print(word)\n",
    "print(\"Number of characters in the string: \")\n",
    "print(char)"
   ]
  },
  {
   "cell_type": "markdown",
   "metadata": {},
   "source": [
    "**Q10. Python Program to Take in Two Strings and Display the Larger String without Using Built-in Functions**"
   ]
  },
  {
   "cell_type": "code",
   "execution_count": 18,
   "metadata": {},
   "outputs": [
    {
     "name": "stdout",
     "output_type": "stream",
     "text": [
      "Enter first string:Happy\n",
      "Enter second string:Days\n",
      "Larger string is: \n",
      "Happy\n"
     ]
    }
   ],
   "source": [
    "#Python Code:\n",
    "string1 = input(\"Enter first string:\")\n",
    "string2 = input(\"Enter second string:\")\n",
    "count1 = 0\n",
    "count2 = 0\n",
    "for i in string1:\n",
    "    count1=count1+1\n",
    "for j in string2:\n",
    "    count2=count2+1\n",
    "if(count1<count2):\n",
    "    print(\"Larger string is: \")\n",
    "    print(string2)\n",
    "elif(count1==count2):\n",
    "    print(\"Both strings are equal.\")\n",
    "else:\n",
    "    print(\"Larger string is: \")\n",
    "    print(string1)"
   ]
  },
  {
   "cell_type": "markdown",
   "metadata": {},
   "source": [
    "**Q11. Python Program to Count Number of Lowercase Characters in a String**"
   ]
  },
  {
   "cell_type": "code",
   "execution_count": 19,
   "metadata": {},
   "outputs": [
    {
     "name": "stdout",
     "output_type": "stream",
     "text": [
      "Enter string: GoodDay\n",
      "The number of lowercase characters is :\n",
      "5\n"
     ]
    }
   ],
   "source": [
    "#Python Code:\n",
    "string = input(\"Enter string: \")\n",
    "count=0\n",
    "for i in string:\n",
    "    if(i.islower()):\n",
    "        count=count+1\n",
    "print(\"The number of lowercase characters is :\")\n",
    "print(count)"
   ]
  },
  {
   "cell_type": "markdown",
   "metadata": {},
   "source": [
    "**Q12. Python Program to Check if a String is a Palindrome or Not**"
   ]
  },
  {
   "cell_type": "code",
   "execution_count": 22,
   "metadata": {},
   "outputs": [
    {
     "name": "stdout",
     "output_type": "stream",
     "text": [
      "Enter string:racecar\n",
      "The string is a Palindrome\n"
     ]
    }
   ],
   "source": [
    "#Python Code:\n",
    "string = input(\"Enter string:\")\n",
    "if(string==string[::-1]): \n",
    "    print(\"The string is a Palindrome\")\n",
    "else:\n",
    "    print(\"The string isn't a Palindrome\")"
   ]
  },
  {
   "cell_type": "markdown",
   "metadata": {},
   "source": [
    "**Q13. Python Program to Calculate the Number of Upper Case Letters and Lower Case Letters in a String**"
   ]
  },
  {
   "cell_type": "code",
   "execution_count": 24,
   "metadata": {},
   "outputs": [
    {
     "name": "stdout",
     "output_type": "stream",
     "text": [
      "Enter string:HappyWorldDay\n",
      "The number of lowercase characters is: \n",
      "10\n",
      "The number of uppercase characters is: \n",
      "3\n"
     ]
    }
   ],
   "source": [
    "#Python Code:\n",
    "string = input(\"Enter string:\")\n",
    "count1 = 0\n",
    "count2 = 0\n",
    "for i in string:\n",
    "    if(i.islower()):\n",
    "        count1=count1+1\n",
    "    elif(i.isupper()):\n",
    "        count2=count2+1\n",
    "print(\"The number of lowercase characters is: \")\n",
    "print(count1)\n",
    "print(\"The number of uppercase characters is: \")\n",
    "print(count2)"
   ]
  },
  {
   "cell_type": "markdown",
   "metadata": {},
   "source": [
    "**Q14. Python Program to Check if a String is a Pangram or Not**"
   ]
  },
  {
   "cell_type": "code",
   "execution_count": 3,
   "metadata": {},
   "outputs": [
    {
     "name": "stdout",
     "output_type": "stream",
     "text": [
      "Enter string: The quick brown fox jumps over the lazy dog\n",
      "The string is a Pangram\n"
     ]
    }
   ],
   "source": [
    "#Python Code:\n",
    "from string import ascii_lowercase as asc_lower\n",
    "def check(s):\n",
    "    return set(asc_lower) - set(s.lower()) == set([])\n",
    "string = input(\"Enter string: \")\n",
    "if(check(string)==True):\n",
    "      print(\"The string is a Pangram\")\n",
    "else:\n",
    "      print(\"The string isn't a Pangram\")"
   ]
  },
  {
   "cell_type": "markdown",
   "metadata": {},
   "source": [
    "**Q15. Python Program to Accept a Hyphen Separated Sequence of Words as Input and Print the Words in a Hyphen-Separated Sequence after Sorting them Alphabetically**"
   ]
  },
  {
   "cell_type": "code",
   "execution_count": 5,
   "metadata": {},
   "outputs": [
    {
     "name": "stdout",
     "output_type": "stream",
     "text": [
      "Enter a hyphen separated sequence of words:\n",
      "Blue-Red-Yellow-Green\n",
      "Sorted:\n",
      "Blue-Green-Red-Yellow\n"
     ]
    }
   ],
   "source": [
    "#Python Code:\n",
    "print(\"Enter a hyphen separated sequence of words:\")\n",
    "lst=[n for n in input().split('-')]  \n",
    "lst.sort()\n",
    "print(\"Sorted:\")\n",
    "print('-'.join(lst))"
   ]
  },
  {
   "cell_type": "markdown",
   "metadata": {},
   "source": [
    "**Q16. Python Program to Calculate the Number of Digits and Letters in a String**"
   ]
  },
  {
   "cell_type": "code",
   "execution_count": 6,
   "metadata": {},
   "outputs": [
    {
     "name": "stdout",
     "output_type": "stream",
     "text": [
      "Enter string: My code Number is 264011\n",
      "The number of digits is: \n",
      "6\n",
      "The number of characters is: \n",
      "6\n"
     ]
    }
   ],
   "source": [
    "#Python Code:\n",
    "string = input(\"Enter string: \")\n",
    "count1 = 0\n",
    "count2 = 0\n",
    "for i in string:\n",
    "    if(i.isdigit()):\n",
    "        count1=count1+1\n",
    "        count2=count2+1\n",
    "print(\"The number of digits is: \")\n",
    "print(count1)\n",
    "print(\"The number of characters is: \")\n",
    "print(count2)"
   ]
  },
  {
   "cell_type": "markdown",
   "metadata": {},
   "source": [
    "**Q17. Python Program to Form a New String Made of the First 2 and Last 2 characters From a Given String**"
   ]
  },
  {
   "cell_type": "code",
   "execution_count": 7,
   "metadata": {},
   "outputs": [
    {
     "name": "stdout",
     "output_type": "stream",
     "text": [
      "Enter string: Hello world\n",
      "Newly formed string is: \n",
      "Held\n"
     ]
    }
   ],
   "source": [
    "#Python code:\n",
    "string = input(\"Enter string: \")\n",
    "count = 0\n",
    "for i in string:\n",
    "    count=count+1\n",
    "new = string[0:2]+string[count-2:count]\n",
    "print(\"Newly formed string is: \")\n",
    "print(new)"
   ]
  },
  {
   "cell_type": "markdown",
   "metadata": {},
   "source": [
    "**Q18. Python Program to Count the Occurrences of Each Word in a Given String Sentence**"
   ]
  },
  {
   "cell_type": "code",
   "execution_count": 11,
   "metadata": {},
   "outputs": [
    {
     "name": "stdout",
     "output_type": "stream",
     "text": [
      "Enter string: Happy Happy Birthday\n",
      "Enter word: Happy\n",
      "Count of the word is: \n",
      "2\n"
     ]
    }
   ],
   "source": [
    "#Python Code:\n",
    "string = input(\"Enter string: \")\n",
    "word = input(\"Enter word: \")\n",
    "a=[]\n",
    "count=0\n",
    "a=string.split(\" \")\n",
    "for i in range(0,len(a)):\n",
    "    if(word==a[i]):\n",
    "        count=count+1\n",
    "print(\"Count of the word is: \")\n",
    "print(count)"
   ]
  },
  {
   "cell_type": "markdown",
   "metadata": {},
   "source": [
    "**Q19. Python Program to Check if a Substring is Present in a Given String**"
   ]
  },
  {
   "cell_type": "code",
   "execution_count": 14,
   "metadata": {},
   "outputs": [
    {
     "name": "stdout",
     "output_type": "stream",
     "text": [
      "Enter string: Happy World Day..!\n",
      "Enter word: Today\n",
      "Substring not found in string!\n"
     ]
    }
   ],
   "source": [
    "#Python Code:\n",
    "string = input(\"Enter string: \")\n",
    "sub_str = input(\"Enter word: \")\n",
    "if(string.find(sub_str)==-1):\n",
    "    print(\"Substring not found in string!\")\n",
    "else:\n",
    "    print(\"Substring in string!\")"
   ]
  },
  {
   "cell_type": "markdown",
   "metadata": {},
   "source": [
    "**Q20. Python Program to Print All Permutations of a String in Lexicographic Order without Recursion**"
   ]
  },
  {
   "cell_type": "code",
   "execution_count": 17,
   "metadata": {},
   "outputs": [
    {
     "name": "stdout",
     "output_type": "stream",
     "text": [
      "Enter the string: gpa\n",
      "gpa\n",
      "pag\n",
      "pga\n",
      "agp\n",
      "apg\n",
      "gap\n"
     ]
    }
   ],
   "source": [
    "#Python Code:\n",
    "from math import factorial\n",
    "def print_permutations_lexicographic_order(s):\n",
    "    \"\"\"Print all permutations of string s in lexicographic order.\"\"\"\n",
    "    seq = list(s)\n",
    " \n",
    "    # there are going to be n! permutations where n = len(seq)\n",
    "    for _ in range(factorial(len(seq))):\n",
    "        # print permutation\n",
    "        print(''.join(seq))\n",
    " \n",
    "        # find p such that seq[p:] is the largest sequence with elements in\n",
    "        # descending lexicographic order\n",
    "        p = len(seq) - 1\n",
    "        while p > 0 and seq[p - 1] > seq[p]:\n",
    "            p -= 1\n",
    " \n",
    "        # reverse seq[p:]\n",
    "        seq[p:] = reversed(seq[p:])\n",
    " \n",
    "        if p > 0:\n",
    "            # find q such that seq[q] is the smallest element in seq[p:] such that\n",
    "            # seq[q] > seq[p - 1]\n",
    "            q = p\n",
    "            while seq[p - 1] > seq[q]:\n",
    "                q += 1\n",
    " \n",
    "            # swap seq[p - 1] and seq[q]\n",
    "            seq[p - 1], seq[q] = seq[q], seq[p - 1]\n",
    " \n",
    "s = input('Enter the string: ')\n",
    "print_permutations_lexicographic_order(s)"
   ]
  },
  {
   "cell_type": "markdown",
   "metadata": {},
   "source": [
    "**Q21. Python Program to Print All Permutations of a String in Lexicographic Order using Recursion**"
   ]
  },
  {
   "cell_type": "code",
   "execution_count": 18,
   "metadata": {},
   "outputs": [
    {
     "name": "stdout",
     "output_type": "stream",
     "text": [
      "Enter the string: cow\n",
      "cow\n",
      "cwo\n",
      "ocw\n",
      "owc\n",
      "wco\n",
      "woc\n"
     ]
    }
   ],
   "source": [
    "#Python Code:\n",
    "from math import factorial \n",
    "def print_permutations_lexicographic_order(s):\n",
    "    \"\"\"Print all permutations of string s in lexicographic order.\"\"\"\n",
    "    seq = list(s)\n",
    "    for _ in range(factorial(len(seq))):\n",
    "        print(''.join(seq))\n",
    "        nxt = get_next_permutation(seq)\n",
    "        # if seq is the highest permutation\n",
    "        if nxt is None:\n",
    "            # then reverse it\n",
    "            seq.reverse()\n",
    "        else:\n",
    "            seq = nxt\n",
    "            \n",
    "def get_next_permutation(seq):\n",
    "    \"\"\"Return next greater lexicographic permutation. Return None if cannot.\n",
    " \n",
    "    This will return the next greater permutation of seq in lexicographic\n",
    "    order. If seq is the highest permutation then this will return None.\n",
    " \n",
    "    seq is a list.\n",
    "    \"\"\"\n",
    "    if len(seq) == 0:\n",
    "        return None\n",
    " \n",
    "    nxt = get_next_permutation(seq[1:])\n",
    " \n",
    "    # if seq[1:] is the highest permutation\n",
    "    if nxt is None:\n",
    "        # reverse seq[1:], so that seq[1:] now is in ascending order\n",
    "        seq[1:] = reversed(seq[1:])\n",
    " \n",
    "        # find q such that seq[q] is the smallest element in seq[1:] such that\n",
    "        # seq[q] > seq[0]\n",
    "        q = 1\n",
    "        while q < len(seq) and seq[0] > seq[q]:\n",
    "            q += 1\n",
    " \n",
    "        # if cannot find q, then seq is the highest permutation\n",
    "        if q == len(seq):\n",
    "            return None\n",
    " \n",
    "        # swap seq[0] and seq[q]\n",
    "        seq[0], seq[q] = seq[q], seq[0]\n",
    " \n",
    "        return seq\n",
    "    else:\n",
    "        return [seq[0]] + nxt\n",
    "  \n",
    "s = input('Enter the string: ')\n",
    "print_permutations_lexicographic_order(s)"
   ]
  }
 ],
 "metadata": {
  "kernelspec": {
   "display_name": "Python 3",
   "language": "python",
   "name": "python3"
  },
  "language_info": {
   "codemirror_mode": {
    "name": "ipython",
    "version": 3
   },
   "file_extension": ".py",
   "mimetype": "text/x-python",
   "name": "python",
   "nbconvert_exporter": "python",
   "pygments_lexer": "ipython3",
   "version": "3.7.4"
  }
 },
 "nbformat": 4,
 "nbformat_minor": 2
}
