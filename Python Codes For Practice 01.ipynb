{
 "cells": [
  {
   "cell_type": "markdown",
   "metadata": {},
   "source": [
    "### Simple Python Programs for Practice with Solutions"
   ]
  },
  {
   "cell_type": "markdown",
   "metadata": {},
   "source": [
    "**Q1. Python Program to Calculate the Average of Numbers in a Given List**"
   ]
  },
  {
   "cell_type": "code",
   "execution_count": 6,
   "metadata": {},
   "outputs": [
    {
     "name": "stdout",
     "output_type": "stream",
     "text": [
      "Enter the number of elements to be Inserted: 5\n",
      "Enter elements: 23\n",
      "Enter elements: 12\n",
      "Enter elements: 16\n",
      "Enter elements: 41\n",
      "Enter elements: 32\n",
      "Average of elements in the list:  24.8\n"
     ]
    }
   ],
   "source": [
    "#Python Code:\n",
    "numbers=int(input(\"Enter the number of elements to be Inserted: \"))\n",
    "a=[]\n",
    "for i in range(0,numbers):\n",
    "    elements=int(input(\"Enter elements: \"))\n",
    "    a.append(elements)\n",
    "avg=sum(a)/numbers\n",
    "print(\"Average of elements in the list: \",round(avg,2))"
   ]
  },
  {
   "cell_type": "markdown",
   "metadata": {},
   "source": [
    "**Q2. Python Program to Exchange the Values of Two Numbers Without Using a Temporary Variable**"
   ]
  },
  {
   "cell_type": "code",
   "execution_count": 8,
   "metadata": {},
   "outputs": [
    {
     "name": "stdout",
     "output_type": "stream",
     "text": [
      "Enter value of the First variable: 2\n",
      "Enter value of the Second variable: 6\n",
      "a is: 6 b is: 6\n"
     ]
    }
   ],
   "source": [
    "# Python Code:\n",
    "a=int(input(\"Enter value of the First variable: \"))\n",
    "b=int(input(\"Enter value of the Second variable: \"))\n",
    "a=b\n",
    "print(\"a is:\",a,\"b is:\",b)"
   ]
  },
  {
   "cell_type": "markdown",
   "metadata": {},
   "source": [
    "**Q3. Python Program to Read a Number n and Compute n+nn+nnn**"
   ]
  },
  {
   "cell_type": "code",
   "execution_count": 13,
   "metadata": {},
   "outputs": [
    {
     "name": "stdout",
     "output_type": "stream",
     "text": [
      "Enter a Number: 5\n",
      "The value is: 615\n"
     ]
    }
   ],
   "source": [
    "# Python Code:\n",
    "n=int(input(\"Enter a Number: \"))\n",
    "temp=str(n)\n",
    "t1=temp+temp\n",
    "t2=temp+temp+temp\n",
    "compute=n+int(t1)+int(t2)\n",
    "print(\"The value is:\",compute)"
   ]
  },
  {
   "cell_type": "markdown",
   "metadata": {},
   "source": [
    "**Q4. Python Program to Reverse a Given Number**"
   ]
  },
  {
   "cell_type": "code",
   "execution_count": 10,
   "metadata": {},
   "outputs": [
    {
     "name": "stdout",
     "output_type": "stream",
     "text": [
      "Enter the Number: 564\n",
      "Reverse of the Number:  465\n"
     ]
    }
   ],
   "source": [
    "# Python Code:\n",
    "n=int(input(\"Enter the Number: \"))\n",
    "rev=0\n",
    "while(n>0):\n",
    "    dig=n%10\n",
    "    rev=rev*10+dig\n",
    "    n=n//10\n",
    "print(\"Reverse of the Number: \",rev)"
   ]
  },
  {
   "cell_type": "code",
   "execution_count": 11,
   "metadata": {},
   "outputs": [
    {
     "name": "stdout",
     "output_type": "stream",
     "text": [
      "Enter the Number:6352\n",
      "2536\n"
     ]
    }
   ],
   "source": [
    "# Alternative Python Code:\n",
    "number =int(input('Enter the Number:'))\n",
    "r= str(number)\n",
    "rev = r[::-1]\n",
    "print(rev)"
   ]
  },
  {
   "cell_type": "markdown",
   "metadata": {},
   "source": [
    "**Q5. Python Program to Check Whether a Number is Positive or Negative**"
   ]
  },
  {
   "cell_type": "code",
   "execution_count": 12,
   "metadata": {},
   "outputs": [
    {
     "name": "stdout",
     "output_type": "stream",
     "text": [
      "Enter the Number: 6\n",
      "Number is Positive\n"
     ]
    }
   ],
   "source": [
    "# Python Code:\n",
    "n=int(input(\"Enter the Number: \"))\n",
    "if(n>0):\n",
    "    print(\"Number is Positive\")\n",
    "elif(n<0):\n",
    "    print(\"Number is Negative\")\n",
    "else:\n",
    "    print(\"Invalid input.\")"
   ]
  },
  {
   "cell_type": "markdown",
   "metadata": {},
   "source": [
    "**Q6. Python Program to Take in the Marks of 5 Subjects and Display the Grade**"
   ]
  },
  {
   "cell_type": "code",
   "execution_count": 15,
   "metadata": {},
   "outputs": [
    {
     "name": "stdout",
     "output_type": "stream",
     "text": [
      "Enter marks of the First Subject: 36\n",
      "Enter marks of the Second Subject: 86\n",
      "Enter marks of the Third Subject: 95\n",
      "Enter marks of the Fourth Subject: 82\n",
      "Enter marks of the Fifth Subject: 46\n",
      "The Grade obtained is: C\n"
     ]
    }
   ],
   "source": [
    "# Python Code:\n",
    "sub1=int(input(\"Enter marks of the First Subject: \"))\n",
    "sub2=int(input(\"Enter marks of the Second Subject: \"))\n",
    "sub3=int(input(\"Enter marks of the Third Subject: \"))\n",
    "sub4=int(input(\"Enter marks of the Fourth Subject: \"))\n",
    "sub5=int(input(\"Enter marks of the Fifth Subject: \"))\n",
    "avg=(sub1+sub2+sub3+sub4+sub4)/5\n",
    "if(avg>=90):\n",
    "    print(\"The Grade obtained is: A\")\n",
    "elif(avg>=80 and avg<90):\n",
    "    print(\"The Grade obtained is: B\")\n",
    "elif(avg>=70 and avg<80):\n",
    "    print(\"The Grade obtained is: C\")\n",
    "elif(avg>=60 and avg<70):\n",
    "    print(\"The Grade obtained is: D\")\n",
    "else:\n",
    "    print(\"The Grade obtained is: F\")"
   ]
  },
  {
   "cell_type": "markdown",
   "metadata": {},
   "source": [
    "**Q7. Python Program to Print all Numbers in a Range Divisible by a Given Number**"
   ]
  },
  {
   "cell_type": "code",
   "execution_count": 18,
   "metadata": {},
   "outputs": [
    {
     "name": "stdout",
     "output_type": "stream",
     "text": [
      "Enter Lower Range Limit:10\n",
      "Enter Upper Range Limit:25\n",
      "Enter the number to be divided by:3\n",
      "12\n",
      "15\n",
      "18\n",
      "21\n",
      "24\n"
     ]
    }
   ],
   "source": [
    "# Python Code:\n",
    "lower=int(input(\"Enter Lower Range Limit:\"))\n",
    "upper=int(input(\"Enter Upper Range Limit:\"))\n",
    "n=int(input(\"Enter the number to be divided by:\"))\n",
    "for i in range(lower,upper+1):\n",
    "    if(i%n==0):\n",
    "        print(i)"
   ]
  },
  {
   "cell_type": "markdown",
   "metadata": {},
   "source": [
    "**Q8. Python Program to Read Two Numbers and Print Their Quotient and Remainder**"
   ]
  },
  {
   "cell_type": "code",
   "execution_count": 20,
   "metadata": {},
   "outputs": [
    {
     "name": "stdout",
     "output_type": "stream",
     "text": [
      "Enter the First Number: 25\n",
      "Enter the Second Number: 4\n",
      "The Quotient is: 6\n",
      "The Remainder is: 1\n"
     ]
    }
   ],
   "source": [
    "# Python Code:\n",
    "a=int(input(\"Enter the First Number: \"))\n",
    "b=int(input(\"Enter the Second Number: \"))\n",
    "quotient=a//b\n",
    "remainder=a%b\n",
    "print(\"The Quotient is:\",quotient)\n",
    "print(\"The Remainder is:\",remainder)"
   ]
  },
  {
   "cell_type": "markdown",
   "metadata": {},
   "source": [
    "**Q9. Python Program to Accept Three Digits and Print all Possible Combinations from the Digits**"
   ]
  },
  {
   "cell_type": "code",
   "execution_count": 22,
   "metadata": {},
   "outputs": [
    {
     "name": "stdout",
     "output_type": "stream",
     "text": [
      "Enter the First number:6\n",
      "Enter the Second number:4\n",
      "Enter the Third number:2\n",
      "6 4 2\n",
      "6 2 4\n",
      "4 6 2\n",
      "4 2 6\n",
      "2 6 4\n",
      "2 4 6\n"
     ]
    }
   ],
   "source": [
    "#Python Code:\n",
    "a=int(input(\"Enter the First number:\"))\n",
    "b=int(input(\"Enter the Second number:\"))\n",
    "c=int(input(\"Enter the Third number:\"))\n",
    "d=[]\n",
    "d.append(a)\n",
    "d.append(b)\n",
    "d.append(c)\n",
    "for i in range(0,3):\n",
    "    for j in range(0,3):\n",
    "        for k in range(0,3):\n",
    "            if(i!=j and  j!=k and  k!=i):\n",
    "                print(d[i],d[j],d[k])"
   ]
  },
  {
   "cell_type": "markdown",
   "metadata": {},
   "source": [
    "**Q10. Python Program to Print Odd Numbers Within a Given Range**"
   ]
  },
  {
   "cell_type": "code",
   "execution_count": 24,
   "metadata": {},
   "outputs": [
    {
     "name": "stdout",
     "output_type": "stream",
     "text": [
      "Enter the Lower limit for the range:20\n",
      "Enter the Upper limit for the range:30\n",
      "21\n",
      "23\n",
      "25\n",
      "27\n",
      "29\n"
     ]
    }
   ],
   "source": [
    "#Python Code:\n",
    "lower=int(input(\"Enter the Lower limit for the range:\"))\n",
    "upper=int(input(\"Enter the Upper limit for the range:\"))\n",
    "for i in range(lower,upper+1):\n",
    "    if(i%2!=0):\n",
    "        print(i)"
   ]
  },
  {
   "cell_type": "markdown",
   "metadata": {},
   "source": [
    "**Q11. Python Program to Find the Sum of Digits in a Number**"
   ]
  },
  {
   "cell_type": "code",
   "execution_count": 28,
   "metadata": {},
   "outputs": [
    {
     "name": "stdout",
     "output_type": "stream",
     "text": [
      "Enter a number:56\n",
      "The total sum of digits is: 11\n"
     ]
    }
   ],
   "source": [
    "# Python Code:\n",
    "n=int(input(\"Enter a number:\"))\n",
    "total=0\n",
    "while(n>0):\n",
    "    digit=n%10\n",
    "    total=total+digit\n",
    "    n=n//10\n",
    "print(\"The total sum of digits is:\",total)"
   ]
  },
  {
   "cell_type": "markdown",
   "metadata": {},
   "source": [
    "**Q12. Python Program to Find the Smallest Divisor of an Integer**"
   ]
  },
  {
   "cell_type": "code",
   "execution_count": 31,
   "metadata": {},
   "outputs": [
    {
     "name": "stdout",
     "output_type": "stream",
     "text": [
      "Enter an Integer: 86\n",
      "The Smallest divisor is:  2\n"
     ]
    }
   ],
   "source": [
    "#Python Code:\n",
    "n=int(input(\"Enter an Integer: \"))\n",
    "a=[]\n",
    "for i in range(2,n+1):\n",
    "    if(n%i==0):\n",
    "        a.append(i)\n",
    "a.sort()\n",
    "print(\"The Smallest divisor is: \",a[0])"
   ]
  },
  {
   "cell_type": "markdown",
   "metadata": {},
   "source": [
    "**Q13. Python Program to Count the Number of Digits in a Number**"
   ]
  },
  {
   "cell_type": "code",
   "execution_count": 32,
   "metadata": {},
   "outputs": [
    {
     "name": "stdout",
     "output_type": "stream",
     "text": [
      "Enter a Number: 53\n",
      "The number of digits in the Number are: 2\n"
     ]
    }
   ],
   "source": [
    "#Python Code:\n",
    "n=int(input(\"Enter a Number: \"))\n",
    "count=0\n",
    "while(n>0):\n",
    "    count=count+1\n",
    "    n=n//10\n",
    "print(\"The number of digits in the Number are:\",count)"
   ]
  },
  {
   "cell_type": "markdown",
   "metadata": {},
   "source": [
    "**Q14. Python Program to Check if a Number is a Palindrome**"
   ]
  },
  {
   "cell_type": "code",
   "execution_count": 35,
   "metadata": {},
   "outputs": [
    {
     "name": "stdout",
     "output_type": "stream",
     "text": [
      "Enter the Number: 56365\n",
      "Reverse of the given number is:  56365\n",
      "The given number is a Palindrome\n"
     ]
    }
   ],
   "source": [
    "#Python Code:\n",
    "num =input('Enter the Number: ')\n",
    "r= str(num)\n",
    "rev = r[::-1]\n",
    "print('Reverse of the given number is: ',rev)\n",
    "if num == rev:\n",
    "    print('The given number is a Palindrome')\n",
    "else:\n",
    "    print('The given number is Not a Palindrome')"
   ]
  },
  {
   "cell_type": "code",
   "execution_count": 36,
   "metadata": {},
   "outputs": [
    {
     "name": "stdout",
     "output_type": "stream",
     "text": [
      "Enter the Number:5632\n",
      "The number isn't a Palindrome!\n"
     ]
    }
   ],
   "source": [
    "#Alternative Python Code:\n",
    "n=int(input(\"Enter the Number:\"))\n",
    "temp=n\n",
    "rev=0\n",
    "while(n>0):\n",
    "    dig=n%10\n",
    "    rev=rev*10+dig\n",
    "    n=n//10\n",
    "if(temp==rev):\n",
    "    print(\"The number is a Palindrome!\")\n",
    "else:\n",
    "    print(\"The number isn't a Palindrome!\")"
   ]
  },
  {
   "cell_type": "markdown",
   "metadata": {},
   "source": [
    "**Q15. Python Program to Print all Integers that Aren’t Divisible by Either 2 or 3 and Lie between 1 and 30.**"
   ]
  },
  {
   "cell_type": "code",
   "execution_count": 37,
   "metadata": {},
   "outputs": [
    {
     "name": "stdout",
     "output_type": "stream",
     "text": [
      "1\n",
      "5\n",
      "7\n",
      "11\n",
      "13\n",
      "17\n",
      "19\n",
      "23\n",
      "25\n",
      "29\n"
     ]
    }
   ],
   "source": [
    "#Python Code:\n",
    "for i in range(0,31):\n",
    "    if(i%2!=0 and i%3!=0):\n",
    "        print(i)"
   ]
  },
  {
   "cell_type": "markdown",
   "metadata": {},
   "source": [
    "**Q16. Python Program to Read a Number n And Print the Series “1+2+…..+n= “**"
   ]
  },
  {
   "cell_type": "code",
   "execution_count": 40,
   "metadata": {},
   "outputs": [
    {
     "name": "stdout",
     "output_type": "stream",
     "text": [
      "Enter a number: 12\n",
      "1 + 2 + 3 + 4 + 5 + 6 + 7 + 8 + 9 + 10 + 11 + 12 = 78\n",
      "\n"
     ]
    }
   ],
   "source": [
    "#Python Code:\n",
    "n=int(input(\"Enter a number: \"))\n",
    "a=[]\n",
    "for i in range(1,n+1):\n",
    "    print(i,sep=\" \",end=\" \")\n",
    "    if(i<n):\n",
    "        print(\"+\",sep=\" \",end=\" \")\n",
    "    a.append(i)\n",
    "print(\"=\",sum(a))\n",
    " \n",
    "print()"
   ]
  },
  {
   "cell_type": "markdown",
   "metadata": {},
   "source": [
    "**Q17. Python Program to Read a Number n and Print the Natural Numbers Summation Pattern**"
   ]
  },
  {
   "cell_type": "code",
   "execution_count": 41,
   "metadata": {},
   "outputs": [
    {
     "name": "stdout",
     "output_type": "stream",
     "text": [
      "Enter a number: 5\n",
      "1 = 1\n",
      "1 + 2 = 3\n",
      "1 + 2 + 3 = 6\n",
      "1 + 2 + 3 + 4 = 10\n",
      "1 + 2 + 3 + 4 + 5 = 15\n",
      "\n"
     ]
    }
   ],
   "source": [
    "#Python Code:\n",
    "n=int(input(\"Enter a number: \"))\n",
    "for j in range(1,n+1):\n",
    "    a=[]\n",
    "    for i in range(1,j+1):\n",
    "        print(i,sep=\" \",end=\" \")\n",
    "        if(i<j):\n",
    "            print(\"+\",sep=\" \",end=\" \")\n",
    "        a.append(i)\n",
    "    print(\"=\",sum(a))\n",
    "print()"
   ]
  },
  {
   "cell_type": "markdown",
   "metadata": {},
   "source": [
    "**Q18. Python Program to Print an Identity Matrix**"
   ]
  },
  {
   "cell_type": "code",
   "execution_count": 42,
   "metadata": {},
   "outputs": [
    {
     "name": "stdout",
     "output_type": "stream",
     "text": [
      "Enter a number: 5\n",
      "1 0 0 0 0 \n",
      "0 1 0 0 0 \n",
      "0 0 1 0 0 \n",
      "0 0 0 1 0 \n",
      "0 0 0 0 1 \n"
     ]
    }
   ],
   "source": [
    "#Python Code:\n",
    "n=int(input(\"Enter a number: \"))\n",
    "for i in range(0,n):\n",
    "    for j in range(0,n):\n",
    "        if(i==j):\n",
    "            print(\"1\",sep=\" \",end=\" \")\n",
    "        else:\n",
    "            print(\"0\",sep=\" \",end=\" \")\n",
    "    print()"
   ]
  },
  {
   "cell_type": "markdown",
   "metadata": {},
   "source": [
    "**Q19. Python Program to Read Print Prime Numbers in a Range using Sieve of Eratosthenes**"
   ]
  },
  {
   "cell_type": "code",
   "execution_count": 3,
   "metadata": {},
   "outputs": [
    {
     "name": "stdout",
     "output_type": "stream",
     "text": [
      "Enter Upper limit of range: 12\n",
      "2\t3\t5\t7\t11\t\n"
     ]
    }
   ],
   "source": [
    "n = int(input(\"Enter Upper limit of range: \"))\n",
    "sieve = set(range(2,n+1))\n",
    "while sieve:\n",
    "    prime = min(sieve)\n",
    "    print(prime,end=\"\\t\")\n",
    "    sieve -= set(range(prime,n+1,prime))\n",
    "print()"
   ]
  },
  {
   "cell_type": "markdown",
   "metadata": {},
   "source": [
    "**Q20. Python Program to Print an Inverted Star Pattern**"
   ]
  },
  {
   "cell_type": "code",
   "execution_count": 3,
   "metadata": {},
   "outputs": [
    {
     "name": "stdout",
     "output_type": "stream",
     "text": [
      "Enter number of rows: 5\n",
      "*****\n",
      " ****\n",
      "  ***\n",
      "   **\n",
      "    *\n"
     ]
    }
   ],
   "source": [
    "#Python Code:\n",
    "n=int(input(\"Enter number of rows: \"))\n",
    "for i in range (n,0,-1): #-1 to reverse it\n",
    "    print((n-i) * ' ' + i * '*')"
   ]
  },
  {
   "cell_type": "code",
   "execution_count": 2,
   "metadata": {},
   "outputs": [
    {
     "name": "stdout",
     "output_type": "stream",
     "text": [
      "* * * * \n",
      "  * * * \n",
      "    * * \n",
      "      * \n"
     ]
    }
   ],
   "source": [
    "# Alternative Python Code:\n",
    "#Creating Patterns:\n",
    "#Check for relations in the patterns:\n",
    "for row in range(0,4):\n",
    "    for col in range(0,4):\n",
    "        if (row-col==0) or (col-row==1) or (col-row==2) or (col-row==3) :\n",
    "            print('*',end=' ')\n",
    "        else:\n",
    "            print(' ',end=' ')      \n",
    "    print()"
   ]
  },
  {
   "cell_type": "code",
   "execution_count": 4,
   "metadata": {},
   "outputs": [
    {
     "name": "stdout",
     "output_type": "stream",
     "text": [
      "  * *   * *   \n",
      "*     *     * \n",
      "*           * \n",
      "  *       *   \n",
      "    *   *     \n",
      "      *       \n"
     ]
    }
   ],
   "source": [
    "#Creating patterns:\n",
    "#Check for relations in the patterns:\n",
    "for row in range(0,6):\n",
    "    for col in range(0,7):\n",
    "        if (row==0 and col%3!=0) or (row==1 and col%3==0) or (row-col==2) or (row+col==8):\n",
    "            print('*',end=' ')\n",
    "        else:\n",
    "            print(' ',end=' ')     \n",
    "    print()"
   ]
  }
 ],
 "metadata": {
  "kernelspec": {
   "display_name": "Python 3",
   "language": "python",
   "name": "python3"
  },
  "language_info": {
   "codemirror_mode": {
    "name": "ipython",
    "version": 3
   },
   "file_extension": ".py",
   "mimetype": "text/x-python",
   "name": "python",
   "nbconvert_exporter": "python",
   "pygments_lexer": "ipython3",
   "version": "3.7.4"
  }
 },
 "nbformat": 4,
 "nbformat_minor": 2
}
