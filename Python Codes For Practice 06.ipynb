{
 "cells": [
  {
   "cell_type": "markdown",
   "metadata": {},
   "source": [
    "### Python Programming Examples on Sets"
   ]
  },
  {
   "cell_type": "markdown",
   "metadata": {},
   "source": [
    "**Q1. Python Program to Count the Number of Vowels Present in a String using Sets**"
   ]
  },
  {
   "cell_type": "code",
   "execution_count": 1,
   "metadata": {},
   "outputs": [
    {
     "name": "stdout",
     "output_type": "stream",
     "text": [
      "Enter string: Happy Working all Day!\n",
      "Count of the vowels is: \n",
      "5\n"
     ]
    }
   ],
   "source": [
    "#Python Code:\n",
    "s = input(\"Enter string: \")\n",
    "count = 0\n",
    "vowels = set(\"aeiou\")\n",
    "for letter in s:\n",
    "    if letter in vowels:\n",
    "        count += 1\n",
    "print(\"Count of the vowels is: \")\n",
    "print(count)"
   ]
  },
  {
   "cell_type": "markdown",
   "metadata": {},
   "source": [
    "**Q2. Python Program to Check Common Letters in Two Input Strings**"
   ]
  },
  {
   "cell_type": "code",
   "execution_count": 2,
   "metadata": {},
   "outputs": [
    {
     "name": "stdout",
     "output_type": "stream",
     "text": [
      "Enter first string: Happy World\n",
      "Enter second string: Happy Working\n",
      "The common letters are: \n",
      " \n",
      "a\n",
      "y\n",
      "r\n",
      "o\n",
      "p\n",
      "H\n",
      "W\n"
     ]
    }
   ],
   "source": [
    "#Python Code:\n",
    "s1 = input(\"Enter first string: \")\n",
    "s2 = input(\"Enter second string: \")\n",
    "a = list(set(s1) & set(s2))\n",
    "print(\"The common letters are: \")\n",
    "for i in a:\n",
    "    print(i)"
   ]
  },
  {
   "cell_type": "markdown",
   "metadata": {},
   "source": [
    "**Q3. Python Program that Displays which Letters are in the First String but not in the Second**"
   ]
  },
  {
   "cell_type": "code",
   "execution_count": 3,
   "metadata": {},
   "outputs": [
    {
     "name": "stdout",
     "output_type": "stream",
     "text": [
      "Enter first string: Happy\n",
      "Enter second string: Day\n",
      "The letters are: \n",
      "H\n",
      "p\n"
     ]
    }
   ],
   "source": [
    "#Python Code:\n",
    "s1 = input(\"Enter first string: \")\n",
    "s2 = input(\"Enter second string: \")\n",
    "a = list(set(s1)-set(s2))\n",
    "print(\"The letters are: \")\n",
    "for i in a:\n",
    "    print(i)"
   ]
  },
  {
   "cell_type": "markdown",
   "metadata": {},
   "source": [
    "**Q4. Python Program that Displays which Letters are Present in Both the Strings**"
   ]
  },
  {
   "cell_type": "code",
   "execution_count": 4,
   "metadata": {},
   "outputs": [
    {
     "name": "stdout",
     "output_type": "stream",
     "text": [
      "Enter first string: Happy day\n",
      "Enter second string: Working day\n",
      "The letters are: \n",
      " \n",
      "k\n",
      "y\n",
      "i\n",
      "p\n",
      "H\n",
      "d\n",
      "g\n",
      "a\n",
      "n\n",
      "r\n",
      "o\n",
      "W\n"
     ]
    }
   ],
   "source": [
    "#Python Code:\n",
    "s1 = input(\"Enter first string: \")\n",
    "s2 = input(\"Enter second string: \")\n",
    "a = list(set(s1)|set(s2))\n",
    "print(\"The letters are: \")\n",
    "for i in a:\n",
    "    print(i)"
   ]
  },
  {
   "cell_type": "markdown",
   "metadata": {},
   "source": [
    "**Q5. Python Program that Displays which Letters are in the Two Strings but not in Both**"
   ]
  },
  {
   "cell_type": "code",
   "execution_count": 5,
   "metadata": {},
   "outputs": [
    {
     "name": "stdout",
     "output_type": "stream",
     "text": [
      "Enter first string: Python\n",
      "Enter second string: Program\n",
      "The letters are: \n",
      "y\n",
      "t\n",
      "h\n",
      "m\n",
      "g\n",
      "a\n",
      "n\n",
      "r\n"
     ]
    }
   ],
   "source": [
    "#Python Code:\n",
    "s1 = input(\"Enter first string: \")\n",
    "s2 = input(\"Enter second string: \")\n",
    "a = list(set(s1)^set(s2))\n",
    "print(\"The letters are: \")\n",
    "for i in a:\n",
    "    print(i)"
   ]
  }
 ],
 "metadata": {
  "kernelspec": {
   "display_name": "Python 3",
   "language": "python",
   "name": "python3"
  },
  "language_info": {
   "codemirror_mode": {
    "name": "ipython",
    "version": 3
   },
   "file_extension": ".py",
   "mimetype": "text/x-python",
   "name": "python",
   "nbconvert_exporter": "python",
   "pygments_lexer": "ipython3",
   "version": "3.7.4"
  }
 },
 "nbformat": 4,
 "nbformat_minor": 2
}
