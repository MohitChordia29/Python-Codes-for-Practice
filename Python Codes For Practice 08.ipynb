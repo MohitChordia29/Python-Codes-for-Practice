{
 "cells": [
  {
   "cell_type": "markdown",
   "metadata": {},
   "source": [
    "### Python Programs without Recursions"
   ]
  },
  {
   "cell_type": "markdown",
   "metadata": {},
   "source": [
    "**Q1. Python Program to Find the Fibonacci Series without Using Recursion**"
   ]
  },
  {
   "cell_type": "code",
   "execution_count": 1,
   "metadata": {},
   "outputs": [
    {
     "name": "stdout",
     "output_type": "stream",
     "text": [
      "Enter the first number of the series 12\n",
      "Enter the second number of the series 32\n",
      "Enter the number of terms needed 12\n",
      "12 32 44 76 120 196 316 512 828 1340 2168 3508 "
     ]
    }
   ],
   "source": [
    "#Python Code:\n",
    "a = int(input(\"Enter the first number of the series \"))\n",
    "b = int(input(\"Enter the second number of the series \"))\n",
    "n = int(input(\"Enter the number of terms needed \"))\n",
    "print(a,b,end=\" \")\n",
    "while(n-2):\n",
    "    c = a+b\n",
    "    a = b\n",
    "    b = c\n",
    "    print(c, end =\" \")\n",
    "    n = n-1"
   ]
  },
  {
   "cell_type": "markdown",
   "metadata": {},
   "source": [
    "**Q2. Python Program to find the factorial of a number without recursion**"
   ]
  },
  {
   "cell_type": "code",
   "execution_count": 4,
   "metadata": {},
   "outputs": [
    {
     "name": "stdout",
     "output_type": "stream",
     "text": [
      "Enter number: 4\n",
      "Factorial of the number is: \n",
      "24\n"
     ]
    }
   ],
   "source": [
    "#Python Code:\n",
    "n = int(input(\"Enter number: \"))\n",
    "fact = 1\n",
    "while(n>0):\n",
    "    fact = fact*n\n",
    "    n = n-1\n",
    "print(\"Factorial of the number is: \")\n",
    "print(fact)"
   ]
  },
  {
   "cell_type": "markdown",
   "metadata": {},
   "source": [
    "**Q3. Python Program to Flatten a List without using Recursion**"
   ]
  },
  {
   "cell_type": "code",
   "execution_count": 5,
   "metadata": {},
   "outputs": [
    {
     "name": "stdout",
     "output_type": "stream",
     "text": [
      "[1, 2, 3, 4, 5]\n"
     ]
    }
   ],
   "source": [
    "#Python Code:\n",
    "a = [[1,[[2]],[[[3]]]],[[4],5]]\n",
    "flatten = lambda l: sum(map(flatten,l),[]) if isinstance(l,list) else [l]\n",
    "print(flatten(a))"
   ]
  },
  {
   "cell_type": "markdown",
   "metadata": {},
   "source": [
    "**Q4. Python Program to Reverse a String without using Recursion**"
   ]
  },
  {
   "cell_type": "code",
   "execution_count": 6,
   "metadata": {},
   "outputs": [
    {
     "name": "stdout",
     "output_type": "stream",
     "text": [
      "Enter a string: 158461\n",
      "Reverse of the string is: \n",
      "164851\n"
     ]
    }
   ],
   "source": [
    "#Python Code:\n",
    "a = str(input(\"Enter a string: \"))\n",
    "print(\"Reverse of the string is: \")\n",
    "print(a[::-1])"
   ]
  },
  {
   "cell_type": "markdown",
   "metadata": {},
   "source": [
    "**Q5. Python Program to Find the Binary Equivalent of a Number without Using Recursion**"
   ]
  },
  {
   "cell_type": "code",
   "execution_count": 7,
   "metadata": {},
   "outputs": [
    {
     "name": "stdout",
     "output_type": "stream",
     "text": [
      "Enter a number: 23\n",
      "Binary Equivalent is: \n",
      "1 0 1 1 1 "
     ]
    }
   ],
   "source": [
    "#Python Code:\n",
    "n = int(input(\"Enter a number: \"))\n",
    "a = []\n",
    "while(n>0):\n",
    "    dig = n%2\n",
    "    a.append(dig)\n",
    "    n = n//2\n",
    "a.reverse()\n",
    "print(\"Binary Equivalent is: \")\n",
    "for i in a:\n",
    "    print(i, end =\" \")"
   ]
  },
  {
   "cell_type": "markdown",
   "metadata": {},
   "source": [
    "**Q6. Python Program to Find All Numbers which are Odd and Palindromes Between a Range of Numbers without using Recursion**"
   ]
  },
  {
   "cell_type": "code",
   "execution_count": 9,
   "metadata": {},
   "outputs": [
    {
     "name": "stdout",
     "output_type": "stream",
     "text": [
      "Enter lower limit: 21\n",
      "Enter upper limit: 56\n",
      "The numbers are:  [33, 55]\n"
     ]
    }
   ],
   "source": [
    "#Python Code:\n",
    "a = []\n",
    "l = int(input(\"Enter lower limit: \"))\n",
    "u = int(input(\"Enter upper limit: \"))\n",
    "a = [x for x in range(l,u+1) if x%2!=0 and str(x)==str(x)[::-1]]\n",
    "print(\"The numbers are: \",a)"
   ]
  },
  {
   "cell_type": "markdown",
   "metadata": {},
   "source": [
    "**Q7. Python Program to Find the Sum of Digits in a Number without Recursion**"
   ]
  },
  {
   "cell_type": "code",
   "execution_count": 11,
   "metadata": {},
   "outputs": [
    {
     "name": "stdout",
     "output_type": "stream",
     "text": [
      "Enter a number: 9461\n",
      "Sum is: \n",
      "20\n"
     ]
    }
   ],
   "source": [
    "#Python Code:\n",
    "l = []\n",
    "b = int(input(\"Enter a number: \"))\n",
    "while(b>0):\n",
    "    dig = b%10\n",
    "    l.append(dig)\n",
    "    b = b//10\n",
    "print(\"Sum is: \")\n",
    "print(sum(l))"
   ]
  }
 ],
 "metadata": {
  "kernelspec": {
   "display_name": "Python 3",
   "language": "python",
   "name": "python3"
  },
  "language_info": {
   "codemirror_mode": {
    "name": "ipython",
    "version": 3
   },
   "file_extension": ".py",
   "mimetype": "text/x-python",
   "name": "python",
   "nbconvert_exporter": "python",
   "pygments_lexer": "ipython3",
   "version": "3.7.4"
  }
 },
 "nbformat": 4,
 "nbformat_minor": 2
}
