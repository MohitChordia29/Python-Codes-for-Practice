{
 "cells": [
  {
   "cell_type": "markdown",
   "metadata": {},
   "source": [
    "### Python Programming Examples on Dictionary"
   ]
  },
  {
   "cell_type": "markdown",
   "metadata": {},
   "source": [
    "**Q1. Python Program to Add a Key-Value Pair to the Dictionary**"
   ]
  },
  {
   "cell_type": "code",
   "execution_count": 2,
   "metadata": {},
   "outputs": [
    {
     "name": "stdout",
     "output_type": "stream",
     "text": [
      "Enter the key (int) to be added: 563\n",
      "Enter the value for the key to be added: 525\n",
      "Updated dictionary is: \n",
      "{563: 525}\n"
     ]
    }
   ],
   "source": [
    "#Python Code:\n",
    "key = int(input(\"Enter the key (int) to be added: \"))\n",
    "value = int(input(\"Enter the value for the key to be added: \"))\n",
    "d = {}\n",
    "d.update({key:value})\n",
    "print(\"Updated dictionary is: \")\n",
    "print(d)"
   ]
  },
  {
   "cell_type": "markdown",
   "metadata": {},
   "source": [
    "**Q2. Python Program to Concatenate Two Dictionaries Into One**"
   ]
  },
  {
   "cell_type": "code",
   "execution_count": 3,
   "metadata": {},
   "outputs": [
    {
     "name": "stdout",
     "output_type": "stream",
     "text": [
      "Concatenated dictionary is: \n",
      "{'A': 1, 'B': 2, 'C': 3}\n"
     ]
    }
   ],
   "source": [
    "#Python Code:\n",
    "d1 = {'A':1,'B':2}\n",
    "d2 = {'C':3}\n",
    "d1.update(d2)\n",
    "print(\"Concatenated dictionary is: \")\n",
    "print(d1)"
   ]
  },
  {
   "cell_type": "markdown",
   "metadata": {},
   "source": [
    "**Q3. Python Program to Check if a Given Key Exists in a Dictionary or Not**"
   ]
  },
  {
   "cell_type": "code",
   "execution_count": 5,
   "metadata": {},
   "outputs": [
    {
     "name": "stdout",
     "output_type": "stream",
     "text": [
      "Enter key to check: B\n",
      "Key is present and value of the key is: \n",
      "2\n"
     ]
    }
   ],
   "source": [
    "#Python Code:\n",
    "d = {'A':1,'B':2,'C':3}\n",
    "key = input(\"Enter key to check: \")\n",
    "if key in d.keys():\n",
    "    print(\"Key is present and value of the key is: \")\n",
    "    print(d[key])\n",
    "else:\n",
    "    print(\"Key isn't present!\")"
   ]
  },
  {
   "cell_type": "markdown",
   "metadata": {},
   "source": [
    "**Q4. Python Program to Generate a Dictionary that Contains Numbers (between 1 and n) in the Form (x,x*x).**"
   ]
  },
  {
   "cell_type": "code",
   "execution_count": 7,
   "metadata": {},
   "outputs": [
    {
     "name": "stdout",
     "output_type": "stream",
     "text": [
      "Enter a number: 20\n",
      "{1: 1, 2: 4, 3: 9, 4: 16, 5: 25, 6: 36, 7: 49, 8: 64, 9: 81, 10: 100, 11: 121, 12: 144, 13: 169, 14: 196, 15: 225, 16: 256, 17: 289, 18: 324, 19: 361, 20: 400}\n"
     ]
    }
   ],
   "source": [
    "#Python Code:\n",
    "n = int(input(\"Enter a number: \"))\n",
    "d = {x:x*x for x in range(1,n+1)}\n",
    "print(d)"
   ]
  },
  {
   "cell_type": "markdown",
   "metadata": {},
   "source": [
    "**Q5. Python Program to Sum All the Items in a Dictionary**"
   ]
  },
  {
   "cell_type": "code",
   "execution_count": 8,
   "metadata": {},
   "outputs": [
    {
     "name": "stdout",
     "output_type": "stream",
     "text": [
      "Total sum of values in the dictionary: \n",
      "879\n"
     ]
    }
   ],
   "source": [
    "#Python Code:\n",
    "d = {'A':100,'B':540,'C':239}\n",
    "print(\"Total sum of values in the dictionary: \")\n",
    "print(sum(d.values()))"
   ]
  },
  {
   "cell_type": "markdown",
   "metadata": {},
   "source": [
    "**Q6. Python Program to Multiply All the Items in a Dictionary**"
   ]
  },
  {
   "cell_type": "code",
   "execution_count": 9,
   "metadata": {},
   "outputs": [
    {
     "name": "stdout",
     "output_type": "stream",
     "text": [
      "23900\n"
     ]
    }
   ],
   "source": [
    "#Python Code:\n",
    "d = {'A':10,'B':10,'C':239}\n",
    "tot = 1\n",
    "for i in d:\n",
    "    tot = tot*d[i]\n",
    "print(tot)"
   ]
  },
  {
   "cell_type": "markdown",
   "metadata": {},
   "source": [
    "**Q7. Python Program to Remove the Given Key from a Dictionary**"
   ]
  },
  {
   "cell_type": "code",
   "execution_count": 2,
   "metadata": {},
   "outputs": [
    {
     "name": "stdout",
     "output_type": "stream",
     "text": [
      "Initial dictionary\n",
      "{'a': 1, 'b': 2, 'c': 3, 'd': 4}\n",
      "Enter the key to delete(a-d): c\n",
      "Updated dictionary\n",
      "{'a': 1, 'b': 2, 'd': 4}\n"
     ]
    }
   ],
   "source": [
    "#Python Code:\n",
    "d = {'a':1,'b':2,'c':3,'d':4}\n",
    "print(\"Initial dictionary\")\n",
    "print(d)\n",
    "key = input(\"Enter the key to delete(a-d): \")\n",
    "if key in d: \n",
    "    del d[key]\n",
    "else:\n",
    "    print(\"Key not found!\")\n",
    "    exit(0)\n",
    "print(\"Updated dictionary\")\n",
    "print(d)"
   ]
  },
  {
   "cell_type": "markdown",
   "metadata": {},
   "source": [
    "**Q8. Python Program to Form a Dictionary from an Object of a Class**"
   ]
  },
  {
   "cell_type": "code",
   "execution_count": 3,
   "metadata": {},
   "outputs": [
    {
     "name": "stdout",
     "output_type": "stream",
     "text": [
      "{'A': 1, 'B': 2}\n"
     ]
    }
   ],
   "source": [
    "#Python Code:\n",
    "class A(object):  \n",
    "    def __init__(self):  \n",
    "        self.A = 1  \n",
    "        self.B = 2  \n",
    "obj = A()  \n",
    "print(obj.__dict__)"
   ]
  },
  {
   "cell_type": "markdown",
   "metadata": {},
   "source": [
    "**Q9. Python Program to Map Two Lists into a Dictionary**"
   ]
  },
  {
   "cell_type": "code",
   "execution_count": 5,
   "metadata": {},
   "outputs": [
    {
     "name": "stdout",
     "output_type": "stream",
     "text": [
      "Enter number of elements for dictionary: 5\n",
      "For keys: \n",
      "Enter element1:1\n",
      "Enter element2:2\n",
      "Enter element3:3\n",
      "Enter element4:4\n",
      "Enter element5:5\n",
      "For values:\n",
      "Enter element1:53\n",
      "Enter element2:3\n",
      "Enter element3:95\n",
      "Enter element4:62\n",
      "Enter element5:38\n",
      "The dictionary is: \n",
      "{1: 53, 2: 3, 3: 95, 4: 62, 5: 38}\n"
     ]
    }
   ],
   "source": [
    "#Python Code:\n",
    "keys = []\n",
    "values = []\n",
    "n = int(input(\"Enter number of elements for dictionary: \"))\n",
    "print(\"For keys: \")\n",
    "for x in range(0,n):\n",
    "    element=int(input(\"Enter element\" + str(x+1) + \":\"))\n",
    "    keys.append(element)\n",
    "print(\"For values:\")\n",
    "for x in range(0,n):\n",
    "    element = int(input(\"Enter element\" + str(x+1) + \":\"))\n",
    "    values.append(element)\n",
    "d = dict(zip(keys,values))\n",
    "print(\"The dictionary is: \")\n",
    "print(d)"
   ]
  },
  {
   "cell_type": "markdown",
   "metadata": {},
   "source": [
    "**Q10. Python Program to Count the Frequency of Words Appearing in a String Using a Dictionary**"
   ]
  },
  {
   "cell_type": "code",
   "execution_count": 8,
   "metadata": {},
   "outputs": [
    {
     "name": "stdout",
     "output_type": "stream",
     "text": [
      "Enter string: Happy are those who make others Happy\n",
      "{'Happy': 2, 'are': 1, 'those': 1, 'who': 1, 'make': 1, 'others': 1}\n"
     ]
    }
   ],
   "source": [
    "#Python Code:\n",
    "test_string = input(\"Enter string: \")\n",
    "l = []\n",
    "l = test_string.split()\n",
    "wordfreq = [l.count(p) for p in l]\n",
    "print(dict(zip(l,wordfreq)))"
   ]
  },
  {
   "cell_type": "markdown",
   "metadata": {},
   "source": [
    "**Q11. Python Program to Create a Dictionary with Key as First Character and Value as Words Starting with that Character**"
   ]
  },
  {
   "cell_type": "code",
   "execution_count": 9,
   "metadata": {},
   "outputs": [
    {
     "name": "stdout",
     "output_type": "stream",
     "text": [
      "Enter string:Python is a High level Object Oriented Programming Language which is Interpreted.\n",
      "P : ['Python', 'Programming']\n",
      "i : ['is']\n",
      "a : ['a']\n",
      "H : ['High']\n",
      "l : ['level']\n",
      "O : ['Object', 'Oriented']\n",
      "L : ['Language']\n",
      "w : ['which']\n",
      "I : ['Interpreted.']\n"
     ]
    }
   ],
   "source": [
    "#Python Code:\n",
    "test_string = input(\"Enter string:\")\n",
    "l = test_string.split()\n",
    "d = {}\n",
    "for word in l:\n",
    "    if(word[0] not in d.keys()):\n",
    "        d[word[0]]=[]\n",
    "        d[word[0]].append(word)\n",
    "    else:\n",
    "        if(word not in d[word[0]]):\n",
    "            d[word[0]].append(word)\n",
    "for k,v in d.items():\n",
    "        print(k,\":\",v)"
   ]
  }
 ],
 "metadata": {
  "kernelspec": {
   "display_name": "Python 3",
   "language": "python",
   "name": "python3"
  },
  "language_info": {
   "codemirror_mode": {
    "name": "ipython",
    "version": 3
   },
   "file_extension": ".py",
   "mimetype": "text/x-python",
   "name": "python",
   "nbconvert_exporter": "python",
   "pygments_lexer": "ipython3",
   "version": "3.7.4"
  }
 },
 "nbformat": 4,
 "nbformat_minor": 2
}
